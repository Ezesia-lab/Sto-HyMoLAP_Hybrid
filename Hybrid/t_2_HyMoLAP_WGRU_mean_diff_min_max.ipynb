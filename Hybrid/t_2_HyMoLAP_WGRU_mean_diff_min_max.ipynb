{
  "cells": [
    {
      "cell_type": "code",
      "execution_count": null,
      "metadata": {
        "colab": {
          "base_uri": "https://localhost:8080/"
        },
        "id": "J1SE3yvn5yNE",
        "outputId": "2a179f93-1ffc-4709-8735-ef939430c5fe"
      },
      "outputs": [
        {
          "output_type": "stream",
          "name": "stdout",
          "text": [
            "Collecting PyWavelets\n",
            "  Downloading pywavelets-1.8.0-cp310-cp310-manylinux_2_17_x86_64.manylinux2014_x86_64.whl.metadata (9.0 kB)\n",
            "Requirement already satisfied: numpy<3,>=1.23 in /usr/local/lib/python3.10/dist-packages (from PyWavelets) (1.26.4)\n",
            "Downloading pywavelets-1.8.0-cp310-cp310-manylinux_2_17_x86_64.manylinux2014_x86_64.whl (4.5 MB)\n",
            "\u001b[2K   \u001b[90m━━━━━━━━━━━━━━━━━━━━━━━━━━━━━━━━━━━━━━━━\u001b[0m \u001b[32m4.5/4.5 MB\u001b[0m \u001b[31m29.2 MB/s\u001b[0m eta \u001b[36m0:00:00\u001b[0m\n",
            "\u001b[?25hInstalling collected packages: PyWavelets\n",
            "Successfully installed PyWavelets-1.8.0\n"
          ]
        }
      ],
      "source": [
        " !pip install PyWavelets"
      ]
    },
    {
      "cell_type": "code",
      "execution_count": null,
      "metadata": {
        "id": "QHwImzYDzpMn"
      },
      "outputs": [],
      "source": [
        "import pandas as pd\n",
        "from matplotlib import pylab as plt\n",
        "from datetime import datetime\n",
        "import numpy as np\n",
        "from math import sqrt\n",
        "from numpy import concatenate\n",
        "from sklearn.preprocessing import LabelEncoder\n",
        "from sklearn.preprocessing import MinMaxScaler\n",
        "from sklearn.metrics import mean_squared_error\n",
        "from keras.models import Sequential\n",
        "from keras.layers import Dense\n",
        "from keras.layers import GRU, Dropout\n",
        "from keras.optimizers import Adam\n",
        "\n",
        "import pywt\n",
        "from sklearn.model_selection import train_test_split\n",
        "from sklearn.model_selection import GridSearchCV\n",
        "\n",
        "import math\n",
        "\n",
        "from scipy.stats import norm\n",
        "from scipy.stats import skew, kurtosis\n",
        "from statsmodels.tsa.stattools import acf\n",
        "from scipy.stats import mode\n",
        "\n",
        "import joblib\n",
        "import matplotlib.dates as mdates"
      ]
    },
    {
      "cell_type": "code",
      "execution_count": null,
      "metadata": {
        "id": "C4xu_V8k2THU"
      },
      "outputs": [],
      "source": [
        "import random\n",
        "import os\n",
        "import tensorflow as tf\n",
        "\n",
        "# Set random seeds for reproducibility\n",
        "np.random.seed(42)\n",
        "tf.random.set_seed(42)\n",
        "random.seed(42)\n",
        "os.environ['PYTHONHASHSEED'] = '42'"
      ]
    },
    {
      "cell_type": "code",
      "execution_count": null,
      "metadata": {
        "id": "Rq8OX1O_Fb5K"
      },
      "outputs": [],
      "source": [
        "# NSE\n",
        "def nash_sutcliffe_efficiency(observed, simulated):\n",
        "    obs_mean = np.mean(observed)\n",
        "    numerator = np.sum((observed - simulated) ** 2)\n",
        "    denominator = np.sum((observed - obs_mean) ** 2)\n",
        "\n",
        "    nse = 1 - (numerator / denominator)\n",
        "    return nse\n"
      ]
    },
    {
      "cell_type": "code",
      "execution_count": null,
      "metadata": {
        "id": "9SmHZJg04fSJ"
      },
      "outputs": [],
      "source": [
        "from scipy.stats import levy_stable"
      ]
    },
    {
      "cell_type": "code",
      "execution_count": null,
      "metadata": {
        "id": "oPFbyTs70Ge-"
      },
      "outputs": [],
      "source": [
        "def split_train_test(values, n_train_hours = 1460):\n",
        "    # Split the data into train (use values before n_train_hours) and test sets (use values after n_train_hours)\n",
        "    train = values[:n_train_hours, :]\n",
        "    test = values[n_train_hours:, :]\n",
        "    # split into input and outputs\n",
        "    train_X, train_y = train[:, :-1], train[:, -1]\n",
        "    test_X, test_y = test[:, :-1], test[:, -1]\n",
        "    # reshape input to be 3D [samples, timesteps, features] required for LSTM\n",
        "    train_X = train_X.reshape((train_X.shape[0], 1, train_X.shape[1]))\n",
        "    test_X = test_X.reshape((test_X.shape[0], 1, test_X.shape[1]))\n",
        "\n",
        "    print(train_X.shape, train_y.shape, test_X.shape, test_y.shape)\n",
        "    return train_X, train_y, test_X, test_y"
      ]
    },
    {
      "cell_type": "code",
      "execution_count": null,
      "metadata": {
        "id": "bTec4pF40Kz3"
      },
      "outputs": [],
      "source": [
        "def build_gru_model(input_shape, nb_neurons=95, learning_rate=0.1, dropout_rate=0.5):\n",
        "    '''\n",
        "    train and test: input shape 1 time step with 8 features\n",
        "    LSTM:\n",
        "     * nb_neurons: hidden state\n",
        "     * 1 neuron for output layer for prediction.\n",
        "    '''\n",
        "    model = Sequential()\n",
        "\n",
        "    # Add a GRU layer with nb_neurons, input_shape, and dropout\n",
        "    model.add(GRU(nb_neurons, input_shape=input_shape))\n",
        "\n",
        "    # Add a Dropout layer\n",
        "    model.add(Dropout(dropout_rate))\n",
        "\n",
        "    # Add a Dense layer with one output neuron\n",
        "    model.add(Dense(1))\n",
        "\n",
        "    # Compile the model with a specified learning rate for the Adam optimizer\n",
        "    optimizer = Adam(learning_rate=learning_rate)\n",
        "    model.compile(loss='mse', optimizer=optimizer)\n",
        "\n",
        "    return model\n",
        "\n",
        "def train_model(model, train_X, train_y, test_X, test_y, epochs=450, batch_size= 128, verbose=0):\n",
        "  '''\n",
        "  Generic function to train model\n",
        "  '''\n",
        "  history = model.fit(train_X, train_y, epochs=epochs, batch_size=batch_size, validation_data=(test_X, test_y), verbose=verbose, shuffle = True)\n",
        "  #plt.plot(history.history['loss'], label='train')\n",
        "  #plt.plot(history.history['val_loss'], label='test')\n",
        "  #plt.legend()\n",
        "  #plt.show()"
      ]
    },
    {
      "cell_type": "code",
      "execution_count": null,
      "metadata": {
        "id": "PluvygB00PJq"
      },
      "outputs": [],
      "source": [
        "# invert scaling for forecast\n",
        "def invert_scaling(scaled_X, scaled_yhat):\n",
        "  scaled_X_reshaped = scaled_X.reshape((scaled_X.shape[0], scaled_X.shape[2]))\n",
        "  Xyat = np.concatenate((scaled_X_reshaped, scaled_yhat.reshape(-1,1)), axis=1)\n",
        "  inv_Xyat = scaler.inverse_transform(Xyat)\n",
        "  return inv_Xyat[:,-1]"
      ]
    },
    {
      "cell_type": "code",
      "execution_count": null,
      "metadata": {
        "id": "MPMvSTdfX_wq"
      },
      "outputs": [],
      "source": [
        "def history_and_horizon_sequencing(df, n_history, n_horizon, target='debits'):\n",
        "    # Separate inputs (e.g., precipitation, ETP) from targets (e.g., discharge)\n",
        "    input_columns = [col for col in df.columns if col != target]\n",
        "    df_inputs = df[input_columns]\n",
        "    df_target = df[target].to_frame()\n",
        "\n",
        "    # History: past sequences (t-n, ... t-1) for inputs (e.g., precipitation, ETP)\n",
        "    stack_history = []\n",
        "    for i in range(n_history, 0, -1):\n",
        "        df_i = df_inputs.shift(i)\n",
        "        df_i.columns = [f'{col}_t-{i}' for col in df_i.columns]\n",
        "        stack_history.append(df_i)\n",
        "\n",
        "    # Present: t for inputs\n",
        "    df_t = df_inputs.copy()\n",
        "    df_t.columns = [f'{col}_t' for col in df_t.columns]\n",
        "\n",
        "    # Horizon: future sequences (t+1, ... t+n) for targets (e.g., discharge)\n",
        "    stack_horizon = []\n",
        "    for j in range(0, n_horizon):\n",
        "        df_j = df_target.shift(-j)\n",
        "        df_j.columns = [f'{col}_t+{j}' for col in df_j.columns]\n",
        "        stack_horizon.append(df_j)\n",
        "\n",
        "    # Return the concatenated DataFrame: past + present + future (inputs and targets)\n",
        "    return pd.concat(stack_history + [df_t] + stack_horizon, axis=1)"
      ]
    },
    {
      "cell_type": "code",
      "execution_count": null,
      "metadata": {
        "id": "OACq-e5p0iXK"
      },
      "outputs": [],
      "source": [
        "# Wavelet transform\n",
        "def wavelet_transform(data, wavelet='coif1', level=6):\n",
        "        coeffs = pywt.wavedec(data, wavelet, level=level)\n",
        "        approx_coeffs = coeffs[0]\n",
        "        transformed_data = pywt.waverec([approx_coeffs] + [None]*(len(coeffs)-1), wavelet)\n",
        "        return transformed_data[:len(data)]"
      ]
    },
    {
      "cell_type": "code",
      "execution_count": null,
      "metadata": {
        "id": "w5zu7w0BrAT1"
      },
      "outputs": [],
      "source": [
        "def build_stacked_gru_model(input_shape, nb_neurons=95):\n",
        "    model = Sequential()\n",
        "    model.add(GRU(nb_neurons, input_shape=input_shape, return_sequences=True))\n",
        "    model.add(GRU(nb_neurons, return_sequences=True))\n",
        "    #model.add(GRU(nb_neurons, return_sequences=True))\n",
        "    model.add(GRU(nb_neurons, activation='relu'))\n",
        "    model.add(Dense(1))\n",
        "    return model"
      ]
    },
    {
      "cell_type": "markdown",
      "metadata": {
        "id": "FREGFGQ38kS_"
      },
      "source": [
        "Simulating HyMoLAP"
      ]
    },
    {
      "cell_type": "code",
      "execution_count": null,
      "metadata": {
        "colab": {
          "base_uri": "https://localhost:8080/"
        },
        "id": "1mIhTZvV-W7i",
        "outputId": "2b50f963-cde6-492f-e489-89e5efe377ca"
      },
      "outputs": [
        {
          "output_type": "stream",
          "name": "stdout",
          "text": [
            "Mounted at /content/drive\n"
          ]
        }
      ],
      "source": [
        "from google.colab import drive\n",
        "drive.mount('/content/drive')"
      ]
    },
    {
      "cell_type": "code",
      "execution_count": null,
      "metadata": {
        "id": "buqI654O4AAz"
      },
      "outputs": [],
      "source": [
        "daily = pd.read_excel('/content/drive/MyDrive/Colab Notebooks/Bonou/calage_biao.xlsx')\n",
        "\n",
        "discharge = daily.iloc[:1461, 0].to_numpy()\n",
        "plui = daily.iloc[:1461, 1].to_numpy()\n",
        "etp = daily.iloc[:1461, 2].to_numpy()\n",
        "\n",
        "\n",
        "#Compute the Effective precipitation\n",
        "prec_eff = plui - etp\n",
        "prec_eff[prec_eff < 0] = 0\n",
        "\n",
        "# X(t)\n",
        "def state_basin(MU, LANDA, q):\n",
        "    n = len(q)\n",
        "    X = np.zeros(n)\n",
        "    X[0] = q[0]\n",
        "    for i in range(1, n):\n",
        "        if q[i] == 0:\n",
        "            X[i] = X[i - 1] - (MU / LANDA) * X[i - 1]\n",
        "        else:\n",
        "            X[i] = X[i - 1] + (MU / LANDA) * q[i]\n",
        "    return X\n",
        "\n",
        "#parameters obtained after Sto. HyMoLAP calibration\n",
        "mu = 0.8136   # which is a in the paper\n",
        "lambd = 2.9416   # which is b in the paper\n",
        "sigma = 0.0035    # which is theta in the paper\n",
        "\n",
        "# Lévy process parameters obtained after Sto. HyMoLAP calibration\n",
        "alpha = 1.3\n",
        "beta =  -0.8\n",
        "gammaa = 1\n",
        "delta = 0\n",
        "\n",
        "# X(t)\n",
        "X = state_basin(mu, lambd, prec_eff)\n",
        "\n",
        "n_traj = 300000\n",
        "QQ = np.zeros((len(discharge),n_traj))\n",
        "\n",
        "for i in range(n_traj):\n",
        "\n",
        "   #Simulate Lévy process\n",
        "   Lev=[]\n",
        "   Lev = levy_stable.rvs(alpha, beta, loc=delta, scale=gammaa, size=len(discharge))\n",
        "\n",
        "   #EQUATION\n",
        "   S = np.zeros(len(discharge))\n",
        "   S[0] = discharge[0]\n",
        "   for k in range(1, len(discharge)):\n",
        "        if S[k - 1]<0:\n",
        "          S[k - 1] = 0\n",
        "        S[k] = S[k - 1] - (mu/lambd) * S[k-1]**(2*mu-1) + (1/lambd) * X[k-1] * prec_eff[k-1] + sigma * S[k - 1] * (Lev[k]-Lev[k - 1])\n",
        "\n",
        "   QQ[:, i] = S.copy()\n",
        "\n",
        "mean_trajectory = np.mean(QQ, axis=1)\n",
        "var_trajectory = np.std(QQ, axis=1)** 2\n",
        "\n",
        "# Variation of quantile level between 0 and 0.25 with a step of 0.01\n",
        "quantile_levels = np.arange(0, 0.251, 0.01)\n",
        "quantile_results = {}\n",
        "\n",
        "for q_level in quantile_levels:\n",
        "    min_trajectory = pd.DataFrame(QQ).quantile(q_level, axis=1).to_numpy()\n",
        "    max_trajectory = pd.DataFrame(QQ).quantile(1 - q_level, axis=1).to_numpy()\n",
        "    diff = max_trajectory - min_trajectory\n",
        "\n",
        "    # Store results for each quantile level\n",
        "    quantile_results[q_level] = {\n",
        "        'min_trajectory': min_trajectory,\n",
        "        'max_trajectory': max_trajectory,\n",
        "        'diff': diff\n",
        "    }\n"
      ]
    },
    {
      "cell_type": "markdown",
      "metadata": {
        "id": "RG-6iHtX8gmS"
      },
      "source": [
        "Validation of HyMoLAP"
      ]
    },
    {
      "cell_type": "code",
      "execution_count": null,
      "metadata": {
        "id": "rJJipHzl8nhA"
      },
      "outputs": [],
      "source": [
        "discharge1 = daily.iloc[1461:, 0].to_numpy()\n",
        "plui1 = daily.iloc[1461:, 1].to_numpy()\n",
        "etp1 = daily.iloc[1461:, 2].to_numpy()\n",
        "\n",
        "#Compute the Effective precipitation\n",
        "plui_eff1 = plui1 - etp1\n",
        "plui_eff1[plui_eff1 < 0] = 0\n",
        "\n",
        "\n",
        "\n",
        "# Simulation with the SDE\n",
        "size = len(discharge1)\n",
        "n_traj = 300000\n",
        "QQ = np.zeros((size,n_traj))\n",
        "\n",
        "X = state_basin(mu, lambd, plui_eff1)\n",
        "\n",
        "for i in range(n_traj):\n",
        "\n",
        "   # Simulate Lévy process\n",
        "   Lev=[]\n",
        "   Lev = levy_stable.rvs(alpha, beta, loc=delta, scale=gammaa, size=size)\n",
        "\n",
        "   # Model\n",
        "   S = np.zeros(size)\n",
        "   S[0] = discharge1[0]\n",
        "   for k in range(1, size):\n",
        "        if S[k - 1]<0:\n",
        "          S[k - 1] = 0\n",
        "        S[k] = S[k - 1] - (mu/lambd) * S[k-1]**(2*mu-1) + (1/lambd) * X[k-1] * plui_eff1[k-1] + sigma * S[k - 1] * (Lev[k]-Lev[k - 1])\n",
        "\n",
        "   QQ[:, i] = S.copy()\n",
        "\n",
        "mean_trajectory1 = np.mean(QQ, axis=1)\n",
        "var_trajectory1 = np.std(QQ, axis=1)** 2\n",
        "\n",
        "# Variation of quantile level between 0 and 0.25 with a step of 0.01\n",
        "quantile_levels = np.arange(0, 0.251, 0.01)\n",
        "quantile_results1 = {}\n",
        "\n",
        "for q_level in quantile_levels:\n",
        "    min_trajectory1 = pd.DataFrame(QQ).quantile(q_level, axis=1).to_numpy()\n",
        "    max_trajectory1 = pd.DataFrame(QQ).quantile(1 - q_level, axis=1).to_numpy()\n",
        "    diff1 = max_trajectory1 - min_trajectory1\n",
        "\n",
        "    # Store results for each quantile level\n",
        "    quantile_results1[q_level] = {\n",
        "        'min_trajectory1': min_trajectory1,\n",
        "        'max_trajectory1': max_trajectory1,\n",
        "        'diff1': diff1\n",
        "    }\n"
      ]
    },
    {
      "cell_type": "markdown",
      "metadata": {
        "id": "7dcccrEf49HC"
      },
      "source": [
        "HYBRID"
      ]
    },
    {
      "cell_type": "code",
      "execution_count": null,
      "metadata": {
        "id": "zYYY4kPezKPU"
      },
      "outputs": [],
      "source": [
        "import json"
      ]
    },
    {
      "cell_type": "code",
      "execution_count": null,
      "metadata": {
        "colab": {
          "base_uri": "https://localhost:8080/"
        },
        "id": "wQ-lAE5z4bTC",
        "outputId": "4e4ad7fc-84ab-4675-e88a-8d1c861051bf"
      },
      "outputs": [
        {
          "output_type": "stream",
          "name": "stdout",
          "text": [
            "(1460, 1, 12) (1460,) (728, 1, 12) (728,)\n",
            "(1460, 1, 12) (1460,) (728, 1, 12) (728,)\n"
          ]
        },
        {
          "output_type": "stream",
          "name": "stderr",
          "text": [
            "/usr/local/lib/python3.10/dist-packages/keras/src/layers/rnn/rnn.py:204: UserWarning: Do not pass an `input_shape`/`input_dim` argument to a layer. When using Sequential models, prefer using an `Input(shape)` object as the first layer in the model instead.\n",
            "  super().__init__(**kwargs)\n"
          ]
        },
        {
          "output_type": "stream",
          "name": "stdout",
          "text": [
            "\u001b[1m46/46\u001b[0m \u001b[32m━━━━━━━━━━━━━━━━━━━━\u001b[0m\u001b[37m\u001b[0m \u001b[1m1s\u001b[0m 22ms/step\n",
            "\u001b[1m23/23\u001b[0m \u001b[32m━━━━━━━━━━━━━━━━━━━━\u001b[0m\u001b[37m\u001b[0m \u001b[1m0s\u001b[0m 2ms/step \n",
            "q Level 0.0: NSE Train = 0.9169391892812421, NSE Test = 0.7755576268539556\n",
            "(1460, 1, 12) (1460,) (728, 1, 12) (728,)\n",
            "(1460, 1, 12) (1460,) (728, 1, 12) (728,)\n"
          ]
        },
        {
          "output_type": "stream",
          "name": "stderr",
          "text": [
            "/usr/local/lib/python3.10/dist-packages/keras/src/layers/rnn/rnn.py:204: UserWarning: Do not pass an `input_shape`/`input_dim` argument to a layer. When using Sequential models, prefer using an `Input(shape)` object as the first layer in the model instead.\n",
            "  super().__init__(**kwargs)\n"
          ]
        },
        {
          "output_type": "stream",
          "name": "stdout",
          "text": [
            "\u001b[1m46/46\u001b[0m \u001b[32m━━━━━━━━━━━━━━━━━━━━\u001b[0m\u001b[37m\u001b[0m \u001b[1m1s\u001b[0m 13ms/step\n",
            "\u001b[1m23/23\u001b[0m \u001b[32m━━━━━━━━━━━━━━━━━━━━\u001b[0m\u001b[37m\u001b[0m \u001b[1m0s\u001b[0m 2ms/step \n",
            "q Level 0.01: NSE Train = 0.9604499582415231, NSE Test = 0.8326965005099108\n",
            "(1460, 1, 12) (1460,) (728, 1, 12) (728,)\n",
            "(1460, 1, 12) (1460,) (728, 1, 12) (728,)\n"
          ]
        },
        {
          "output_type": "stream",
          "name": "stderr",
          "text": [
            "/usr/local/lib/python3.10/dist-packages/keras/src/layers/rnn/rnn.py:204: UserWarning: Do not pass an `input_shape`/`input_dim` argument to a layer. When using Sequential models, prefer using an `Input(shape)` object as the first layer in the model instead.\n",
            "  super().__init__(**kwargs)\n"
          ]
        },
        {
          "output_type": "stream",
          "name": "stdout",
          "text": [
            "\u001b[1m46/46\u001b[0m \u001b[32m━━━━━━━━━━━━━━━━━━━━\u001b[0m\u001b[37m\u001b[0m \u001b[1m2s\u001b[0m 25ms/step\n",
            "\u001b[1m23/23\u001b[0m \u001b[32m━━━━━━━━━━━━━━━━━━━━\u001b[0m\u001b[37m\u001b[0m \u001b[1m0s\u001b[0m 2ms/step \n",
            "q Level 0.02: NSE Train = 0.9497850028690931, NSE Test = 0.8546456832910229\n",
            "(1460, 1, 12) (1460,) (728, 1, 12) (728,)\n",
            "(1460, 1, 12) (1460,) (728, 1, 12) (728,)\n"
          ]
        },
        {
          "output_type": "stream",
          "name": "stderr",
          "text": [
            "/usr/local/lib/python3.10/dist-packages/keras/src/layers/rnn/rnn.py:204: UserWarning: Do not pass an `input_shape`/`input_dim` argument to a layer. When using Sequential models, prefer using an `Input(shape)` object as the first layer in the model instead.\n",
            "  super().__init__(**kwargs)\n"
          ]
        },
        {
          "output_type": "stream",
          "name": "stdout",
          "text": [
            "\u001b[1m46/46\u001b[0m \u001b[32m━━━━━━━━━━━━━━━━━━━━\u001b[0m\u001b[37m\u001b[0m \u001b[1m1s\u001b[0m 12ms/step\n",
            "\u001b[1m23/23\u001b[0m \u001b[32m━━━━━━━━━━━━━━━━━━━━\u001b[0m\u001b[37m\u001b[0m \u001b[1m0s\u001b[0m 2ms/step \n",
            "q Level 0.03: NSE Train = 0.9502937928182799, NSE Test = 0.8754925814684422\n",
            "(1460, 1, 12) (1460,) (728, 1, 12) (728,)\n",
            "(1460, 1, 12) (1460,) (728, 1, 12) (728,)\n"
          ]
        },
        {
          "output_type": "stream",
          "name": "stderr",
          "text": [
            "/usr/local/lib/python3.10/dist-packages/keras/src/layers/rnn/rnn.py:204: UserWarning: Do not pass an `input_shape`/`input_dim` argument to a layer. When using Sequential models, prefer using an `Input(shape)` object as the first layer in the model instead.\n",
            "  super().__init__(**kwargs)\n"
          ]
        },
        {
          "output_type": "stream",
          "name": "stdout",
          "text": [
            "\u001b[1m46/46\u001b[0m \u001b[32m━━━━━━━━━━━━━━━━━━━━\u001b[0m\u001b[37m\u001b[0m \u001b[1m1s\u001b[0m 12ms/step\n",
            "\u001b[1m23/23\u001b[0m \u001b[32m━━━━━━━━━━━━━━━━━━━━\u001b[0m\u001b[37m\u001b[0m \u001b[1m0s\u001b[0m 2ms/step \n",
            "q Level 0.04: NSE Train = 0.9463618977130303, NSE Test = 0.8808532479281308\n",
            "(1460, 1, 12) (1460,) (728, 1, 12) (728,)\n",
            "(1460, 1, 12) (1460,) (728, 1, 12) (728,)\n"
          ]
        },
        {
          "output_type": "stream",
          "name": "stderr",
          "text": [
            "/usr/local/lib/python3.10/dist-packages/keras/src/layers/rnn/rnn.py:204: UserWarning: Do not pass an `input_shape`/`input_dim` argument to a layer. When using Sequential models, prefer using an `Input(shape)` object as the first layer in the model instead.\n",
            "  super().__init__(**kwargs)\n"
          ]
        },
        {
          "output_type": "stream",
          "name": "stdout",
          "text": [
            "\u001b[1m46/46\u001b[0m \u001b[32m━━━━━━━━━━━━━━━━━━━━\u001b[0m\u001b[37m\u001b[0m \u001b[1m1s\u001b[0m 12ms/step\n",
            "\u001b[1m23/23\u001b[0m \u001b[32m━━━━━━━━━━━━━━━━━━━━\u001b[0m\u001b[37m\u001b[0m \u001b[1m0s\u001b[0m 2ms/step \n",
            "q Level 0.05: NSE Train = 0.9422202065546978, NSE Test = 0.887357592707128\n",
            "(1460, 1, 12) (1460,) (728, 1, 12) (728,)\n",
            "(1460, 1, 12) (1460,) (728, 1, 12) (728,)\n"
          ]
        },
        {
          "output_type": "stream",
          "name": "stderr",
          "text": [
            "/usr/local/lib/python3.10/dist-packages/keras/src/layers/rnn/rnn.py:204: UserWarning: Do not pass an `input_shape`/`input_dim` argument to a layer. When using Sequential models, prefer using an `Input(shape)` object as the first layer in the model instead.\n",
            "  super().__init__(**kwargs)\n"
          ]
        },
        {
          "output_type": "stream",
          "name": "stdout",
          "text": [
            "\u001b[1m46/46\u001b[0m \u001b[32m━━━━━━━━━━━━━━━━━━━━\u001b[0m\u001b[37m\u001b[0m \u001b[1m1s\u001b[0m 12ms/step\n",
            "\u001b[1m23/23\u001b[0m \u001b[32m━━━━━━━━━━━━━━━━━━━━\u001b[0m\u001b[37m\u001b[0m \u001b[1m0s\u001b[0m 2ms/step \n",
            "q Level 0.06: NSE Train = 0.9428335438558907, NSE Test = 0.893323877263873\n",
            "(1460, 1, 12) (1460,) (728, 1, 12) (728,)\n",
            "(1460, 1, 12) (1460,) (728, 1, 12) (728,)\n"
          ]
        },
        {
          "output_type": "stream",
          "name": "stderr",
          "text": [
            "/usr/local/lib/python3.10/dist-packages/keras/src/layers/rnn/rnn.py:204: UserWarning: Do not pass an `input_shape`/`input_dim` argument to a layer. When using Sequential models, prefer using an `Input(shape)` object as the first layer in the model instead.\n",
            "  super().__init__(**kwargs)\n"
          ]
        },
        {
          "output_type": "stream",
          "name": "stdout",
          "text": [
            "\u001b[1m46/46\u001b[0m \u001b[32m━━━━━━━━━━━━━━━━━━━━\u001b[0m\u001b[37m\u001b[0m \u001b[1m1s\u001b[0m 12ms/step\n",
            "\u001b[1m23/23\u001b[0m \u001b[32m━━━━━━━━━━━━━━━━━━━━\u001b[0m\u001b[37m\u001b[0m \u001b[1m0s\u001b[0m 2ms/step \n",
            "q Level 0.07: NSE Train = 0.943468988875399, NSE Test = 0.8883018294792934\n",
            "(1460, 1, 12) (1460,) (728, 1, 12) (728,)\n",
            "(1460, 1, 12) (1460,) (728, 1, 12) (728,)\n"
          ]
        },
        {
          "output_type": "stream",
          "name": "stderr",
          "text": [
            "/usr/local/lib/python3.10/dist-packages/keras/src/layers/rnn/rnn.py:204: UserWarning: Do not pass an `input_shape`/`input_dim` argument to a layer. When using Sequential models, prefer using an `Input(shape)` object as the first layer in the model instead.\n",
            "  super().__init__(**kwargs)\n"
          ]
        },
        {
          "output_type": "stream",
          "name": "stdout",
          "text": [
            "\u001b[1m46/46\u001b[0m \u001b[32m━━━━━━━━━━━━━━━━━━━━\u001b[0m\u001b[37m\u001b[0m \u001b[1m1s\u001b[0m 13ms/step\n",
            "\u001b[1m23/23\u001b[0m \u001b[32m━━━━━━━━━━━━━━━━━━━━\u001b[0m\u001b[37m\u001b[0m \u001b[1m0s\u001b[0m 2ms/step \n",
            "q Level 0.08: NSE Train = 0.9456881596072505, NSE Test = 0.8893430671503091\n",
            "(1460, 1, 12) (1460,) (728, 1, 12) (728,)\n",
            "(1460, 1, 12) (1460,) (728, 1, 12) (728,)\n"
          ]
        },
        {
          "output_type": "stream",
          "name": "stderr",
          "text": [
            "/usr/local/lib/python3.10/dist-packages/keras/src/layers/rnn/rnn.py:204: UserWarning: Do not pass an `input_shape`/`input_dim` argument to a layer. When using Sequential models, prefer using an `Input(shape)` object as the first layer in the model instead.\n",
            "  super().__init__(**kwargs)\n"
          ]
        },
        {
          "output_type": "stream",
          "name": "stdout",
          "text": [
            "\u001b[1m46/46\u001b[0m \u001b[32m━━━━━━━━━━━━━━━━━━━━\u001b[0m\u001b[37m\u001b[0m \u001b[1m1s\u001b[0m 12ms/step\n",
            "\u001b[1m23/23\u001b[0m \u001b[32m━━━━━━━━━━━━━━━━━━━━\u001b[0m\u001b[37m\u001b[0m \u001b[1m0s\u001b[0m 2ms/step \n",
            "q Level 0.09: NSE Train = 0.9468263476885631, NSE Test = 0.8943457965771303\n",
            "(1460, 1, 12) (1460,) (728, 1, 12) (728,)\n",
            "(1460, 1, 12) (1460,) (728, 1, 12) (728,)\n"
          ]
        },
        {
          "output_type": "stream",
          "name": "stderr",
          "text": [
            "/usr/local/lib/python3.10/dist-packages/keras/src/layers/rnn/rnn.py:204: UserWarning: Do not pass an `input_shape`/`input_dim` argument to a layer. When using Sequential models, prefer using an `Input(shape)` object as the first layer in the model instead.\n",
            "  super().__init__(**kwargs)\n"
          ]
        },
        {
          "output_type": "stream",
          "name": "stdout",
          "text": [
            "\u001b[1m46/46\u001b[0m \u001b[32m━━━━━━━━━━━━━━━━━━━━\u001b[0m\u001b[37m\u001b[0m \u001b[1m1s\u001b[0m 12ms/step\n",
            "\u001b[1m23/23\u001b[0m \u001b[32m━━━━━━━━━━━━━━━━━━━━\u001b[0m\u001b[37m\u001b[0m \u001b[1m0s\u001b[0m 2ms/step \n",
            "q Level 0.1: NSE Train = 0.947973459823543, NSE Test = 0.8966542941390363\n",
            "(1460, 1, 12) (1460,) (728, 1, 12) (728,)\n",
            "(1460, 1, 12) (1460,) (728, 1, 12) (728,)\n"
          ]
        },
        {
          "output_type": "stream",
          "name": "stderr",
          "text": [
            "/usr/local/lib/python3.10/dist-packages/keras/src/layers/rnn/rnn.py:204: UserWarning: Do not pass an `input_shape`/`input_dim` argument to a layer. When using Sequential models, prefer using an `Input(shape)` object as the first layer in the model instead.\n",
            "  super().__init__(**kwargs)\n"
          ]
        },
        {
          "output_type": "stream",
          "name": "stdout",
          "text": [
            "\u001b[1m46/46\u001b[0m \u001b[32m━━━━━━━━━━━━━━━━━━━━\u001b[0m\u001b[37m\u001b[0m \u001b[1m1s\u001b[0m 12ms/step\n",
            "\u001b[1m23/23\u001b[0m \u001b[32m━━━━━━━━━━━━━━━━━━━━\u001b[0m\u001b[37m\u001b[0m \u001b[1m0s\u001b[0m 2ms/step \n",
            "q Level 0.11: NSE Train = 0.9464495821469622, NSE Test = 0.8793263176421103\n",
            "(1460, 1, 12) (1460,) (728, 1, 12) (728,)\n",
            "(1460, 1, 12) (1460,) (728, 1, 12) (728,)\n"
          ]
        },
        {
          "output_type": "stream",
          "name": "stderr",
          "text": [
            "/usr/local/lib/python3.10/dist-packages/keras/src/layers/rnn/rnn.py:204: UserWarning: Do not pass an `input_shape`/`input_dim` argument to a layer. When using Sequential models, prefer using an `Input(shape)` object as the first layer in the model instead.\n",
            "  super().__init__(**kwargs)\n"
          ]
        },
        {
          "output_type": "stream",
          "name": "stdout",
          "text": [
            "\u001b[1m46/46\u001b[0m \u001b[32m━━━━━━━━━━━━━━━━━━━━\u001b[0m\u001b[37m\u001b[0m \u001b[1m1s\u001b[0m 12ms/step\n",
            "\u001b[1m23/23\u001b[0m \u001b[32m━━━━━━━━━━━━━━━━━━━━\u001b[0m\u001b[37m\u001b[0m \u001b[1m0s\u001b[0m 2ms/step \n",
            "q Level 0.12: NSE Train = 0.9488980813893799, NSE Test = 0.8644735337138346\n",
            "(1460, 1, 12) (1460,) (728, 1, 12) (728,)\n",
            "(1460, 1, 12) (1460,) (728, 1, 12) (728,)\n"
          ]
        },
        {
          "output_type": "stream",
          "name": "stderr",
          "text": [
            "/usr/local/lib/python3.10/dist-packages/keras/src/layers/rnn/rnn.py:204: UserWarning: Do not pass an `input_shape`/`input_dim` argument to a layer. When using Sequential models, prefer using an `Input(shape)` object as the first layer in the model instead.\n",
            "  super().__init__(**kwargs)\n"
          ]
        },
        {
          "output_type": "stream",
          "name": "stdout",
          "text": [
            "\u001b[1m46/46\u001b[0m \u001b[32m━━━━━━━━━━━━━━━━━━━━\u001b[0m\u001b[37m\u001b[0m \u001b[1m1s\u001b[0m 12ms/step\n",
            "\u001b[1m23/23\u001b[0m \u001b[32m━━━━━━━━━━━━━━━━━━━━\u001b[0m\u001b[37m\u001b[0m \u001b[1m0s\u001b[0m 2ms/step \n",
            "q Level 0.13: NSE Train = 0.9523075121531547, NSE Test = 0.8845574269122142\n",
            "(1460, 1, 12) (1460,) (728, 1, 12) (728,)\n",
            "(1460, 1, 12) (1460,) (728, 1, 12) (728,)\n"
          ]
        },
        {
          "output_type": "stream",
          "name": "stderr",
          "text": [
            "/usr/local/lib/python3.10/dist-packages/keras/src/layers/rnn/rnn.py:204: UserWarning: Do not pass an `input_shape`/`input_dim` argument to a layer. When using Sequential models, prefer using an `Input(shape)` object as the first layer in the model instead.\n",
            "  super().__init__(**kwargs)\n"
          ]
        },
        {
          "output_type": "stream",
          "name": "stdout",
          "text": [
            "\u001b[1m46/46\u001b[0m \u001b[32m━━━━━━━━━━━━━━━━━━━━\u001b[0m\u001b[37m\u001b[0m \u001b[1m1s\u001b[0m 13ms/step\n",
            "\u001b[1m23/23\u001b[0m \u001b[32m━━━━━━━━━━━━━━━━━━━━\u001b[0m\u001b[37m\u001b[0m \u001b[1m0s\u001b[0m 2ms/step \n",
            "q Level 0.14: NSE Train = 0.9457308979283674, NSE Test = 0.8863684142729003\n",
            "(1460, 1, 12) (1460,) (728, 1, 12) (728,)\n",
            "(1460, 1, 12) (1460,) (728, 1, 12) (728,)\n"
          ]
        },
        {
          "output_type": "stream",
          "name": "stderr",
          "text": [
            "/usr/local/lib/python3.10/dist-packages/keras/src/layers/rnn/rnn.py:204: UserWarning: Do not pass an `input_shape`/`input_dim` argument to a layer. When using Sequential models, prefer using an `Input(shape)` object as the first layer in the model instead.\n",
            "  super().__init__(**kwargs)\n"
          ]
        },
        {
          "output_type": "stream",
          "name": "stdout",
          "text": [
            "\u001b[1m46/46\u001b[0m \u001b[32m━━━━━━━━━━━━━━━━━━━━\u001b[0m\u001b[37m\u001b[0m \u001b[1m1s\u001b[0m 12ms/step\n",
            "\u001b[1m23/23\u001b[0m \u001b[32m━━━━━━━━━━━━━━━━━━━━\u001b[0m\u001b[37m\u001b[0m \u001b[1m0s\u001b[0m 3ms/step\n",
            "q Level 0.15: NSE Train = 0.9482359783116463, NSE Test = 0.8785493165305712\n",
            "(1460, 1, 12) (1460,) (728, 1, 12) (728,)\n",
            "(1460, 1, 12) (1460,) (728, 1, 12) (728,)\n"
          ]
        },
        {
          "output_type": "stream",
          "name": "stderr",
          "text": [
            "/usr/local/lib/python3.10/dist-packages/keras/src/layers/rnn/rnn.py:204: UserWarning: Do not pass an `input_shape`/`input_dim` argument to a layer. When using Sequential models, prefer using an `Input(shape)` object as the first layer in the model instead.\n",
            "  super().__init__(**kwargs)\n"
          ]
        },
        {
          "output_type": "stream",
          "name": "stdout",
          "text": [
            "\u001b[1m46/46\u001b[0m \u001b[32m━━━━━━━━━━━━━━━━━━━━\u001b[0m\u001b[37m\u001b[0m \u001b[1m1s\u001b[0m 12ms/step\n",
            "\u001b[1m23/23\u001b[0m \u001b[32m━━━━━━━━━━━━━━━━━━━━\u001b[0m\u001b[37m\u001b[0m \u001b[1m0s\u001b[0m 2ms/step \n",
            "q Level 0.16: NSE Train = 0.9467409356954684, NSE Test = 0.8911273451176441\n",
            "(1460, 1, 12) (1460,) (728, 1, 12) (728,)\n",
            "(1460, 1, 12) (1460,) (728, 1, 12) (728,)\n"
          ]
        },
        {
          "output_type": "stream",
          "name": "stderr",
          "text": [
            "/usr/local/lib/python3.10/dist-packages/keras/src/layers/rnn/rnn.py:204: UserWarning: Do not pass an `input_shape`/`input_dim` argument to a layer. When using Sequential models, prefer using an `Input(shape)` object as the first layer in the model instead.\n",
            "  super().__init__(**kwargs)\n"
          ]
        },
        {
          "output_type": "stream",
          "name": "stdout",
          "text": [
            "\u001b[1m46/46\u001b[0m \u001b[32m━━━━━━━━━━━━━━━━━━━━\u001b[0m\u001b[37m\u001b[0m \u001b[1m1s\u001b[0m 12ms/step\n",
            "\u001b[1m23/23\u001b[0m \u001b[32m━━━━━━━━━━━━━━━━━━━━\u001b[0m\u001b[37m\u001b[0m \u001b[1m0s\u001b[0m 3ms/step\n",
            "q Level 0.17: NSE Train = 0.946519906152207, NSE Test = 0.8868235420620194\n",
            "(1460, 1, 12) (1460,) (728, 1, 12) (728,)\n",
            "(1460, 1, 12) (1460,) (728, 1, 12) (728,)\n"
          ]
        },
        {
          "output_type": "stream",
          "name": "stderr",
          "text": [
            "/usr/local/lib/python3.10/dist-packages/keras/src/layers/rnn/rnn.py:204: UserWarning: Do not pass an `input_shape`/`input_dim` argument to a layer. When using Sequential models, prefer using an `Input(shape)` object as the first layer in the model instead.\n",
            "  super().__init__(**kwargs)\n"
          ]
        },
        {
          "output_type": "stream",
          "name": "stdout",
          "text": [
            "\u001b[1m46/46\u001b[0m \u001b[32m━━━━━━━━━━━━━━━━━━━━\u001b[0m\u001b[37m\u001b[0m \u001b[1m1s\u001b[0m 12ms/step\n",
            "\u001b[1m23/23\u001b[0m \u001b[32m━━━━━━━━━━━━━━━━━━━━\u001b[0m\u001b[37m\u001b[0m \u001b[1m0s\u001b[0m 2ms/step \n",
            "q Level 0.18: NSE Train = 0.9458814422446825, NSE Test = 0.8836382029954584\n",
            "(1460, 1, 12) (1460,) (728, 1, 12) (728,)\n",
            "(1460, 1, 12) (1460,) (728, 1, 12) (728,)\n"
          ]
        },
        {
          "output_type": "stream",
          "name": "stderr",
          "text": [
            "/usr/local/lib/python3.10/dist-packages/keras/src/layers/rnn/rnn.py:204: UserWarning: Do not pass an `input_shape`/`input_dim` argument to a layer. When using Sequential models, prefer using an `Input(shape)` object as the first layer in the model instead.\n",
            "  super().__init__(**kwargs)\n"
          ]
        },
        {
          "output_type": "stream",
          "name": "stdout",
          "text": [
            "\u001b[1m46/46\u001b[0m \u001b[32m━━━━━━━━━━━━━━━━━━━━\u001b[0m\u001b[37m\u001b[0m \u001b[1m1s\u001b[0m 13ms/step\n",
            "\u001b[1m23/23\u001b[0m \u001b[32m━━━━━━━━━━━━━━━━━━━━\u001b[0m\u001b[37m\u001b[0m \u001b[1m0s\u001b[0m 2ms/step \n",
            "q Level 0.19: NSE Train = 0.9467251489214641, NSE Test = 0.8914066472673708\n",
            "(1460, 1, 12) (1460,) (728, 1, 12) (728,)\n",
            "(1460, 1, 12) (1460,) (728, 1, 12) (728,)\n"
          ]
        },
        {
          "output_type": "stream",
          "name": "stderr",
          "text": [
            "/usr/local/lib/python3.10/dist-packages/keras/src/layers/rnn/rnn.py:204: UserWarning: Do not pass an `input_shape`/`input_dim` argument to a layer. When using Sequential models, prefer using an `Input(shape)` object as the first layer in the model instead.\n",
            "  super().__init__(**kwargs)\n"
          ]
        },
        {
          "output_type": "stream",
          "name": "stdout",
          "text": [
            "\u001b[1m46/46\u001b[0m \u001b[32m━━━━━━━━━━━━━━━━━━━━\u001b[0m\u001b[37m\u001b[0m \u001b[1m1s\u001b[0m 12ms/step\n",
            "\u001b[1m23/23\u001b[0m \u001b[32m━━━━━━━━━━━━━━━━━━━━\u001b[0m\u001b[37m\u001b[0m \u001b[1m0s\u001b[0m 2ms/step \n",
            "q Level 0.2: NSE Train = 0.9445974261591282, NSE Test = 0.8826255259172946\n",
            "(1460, 1, 12) (1460,) (728, 1, 12) (728,)\n",
            "(1460, 1, 12) (1460,) (728, 1, 12) (728,)\n"
          ]
        },
        {
          "output_type": "stream",
          "name": "stderr",
          "text": [
            "/usr/local/lib/python3.10/dist-packages/keras/src/layers/rnn/rnn.py:204: UserWarning: Do not pass an `input_shape`/`input_dim` argument to a layer. When using Sequential models, prefer using an `Input(shape)` object as the first layer in the model instead.\n",
            "  super().__init__(**kwargs)\n"
          ]
        },
        {
          "output_type": "stream",
          "name": "stdout",
          "text": [
            "\u001b[1m46/46\u001b[0m \u001b[32m━━━━━━━━━━━━━━━━━━━━\u001b[0m\u001b[37m\u001b[0m \u001b[1m1s\u001b[0m 13ms/step\n",
            "\u001b[1m23/23\u001b[0m \u001b[32m━━━━━━━━━━━━━━━━━━━━\u001b[0m\u001b[37m\u001b[0m \u001b[1m0s\u001b[0m 2ms/step \n",
            "q Level 0.21: NSE Train = 0.9520241034059599, NSE Test = 0.874871441360535\n",
            "(1460, 1, 12) (1460,) (728, 1, 12) (728,)\n",
            "(1460, 1, 12) (1460,) (728, 1, 12) (728,)\n"
          ]
        },
        {
          "output_type": "stream",
          "name": "stderr",
          "text": [
            "/usr/local/lib/python3.10/dist-packages/keras/src/layers/rnn/rnn.py:204: UserWarning: Do not pass an `input_shape`/`input_dim` argument to a layer. When using Sequential models, prefer using an `Input(shape)` object as the first layer in the model instead.\n",
            "  super().__init__(**kwargs)\n"
          ]
        },
        {
          "output_type": "stream",
          "name": "stdout",
          "text": [
            "\u001b[1m46/46\u001b[0m \u001b[32m━━━━━━━━━━━━━━━━━━━━\u001b[0m\u001b[37m\u001b[0m \u001b[1m1s\u001b[0m 12ms/step\n",
            "\u001b[1m23/23\u001b[0m \u001b[32m━━━━━━━━━━━━━━━━━━━━\u001b[0m\u001b[37m\u001b[0m \u001b[1m0s\u001b[0m 2ms/step \n",
            "q Level 0.22: NSE Train = 0.9489553024501329, NSE Test = 0.8811537549587102\n",
            "(1460, 1, 12) (1460,) (728, 1, 12) (728,)\n",
            "(1460, 1, 12) (1460,) (728, 1, 12) (728,)\n"
          ]
        },
        {
          "output_type": "stream",
          "name": "stderr",
          "text": [
            "/usr/local/lib/python3.10/dist-packages/keras/src/layers/rnn/rnn.py:204: UserWarning: Do not pass an `input_shape`/`input_dim` argument to a layer. When using Sequential models, prefer using an `Input(shape)` object as the first layer in the model instead.\n",
            "  super().__init__(**kwargs)\n"
          ]
        },
        {
          "output_type": "stream",
          "name": "stdout",
          "text": [
            "\u001b[1m46/46\u001b[0m \u001b[32m━━━━━━━━━━━━━━━━━━━━\u001b[0m\u001b[37m\u001b[0m \u001b[1m1s\u001b[0m 19ms/step\n",
            "\u001b[1m23/23\u001b[0m \u001b[32m━━━━━━━━━━━━━━━━━━━━\u001b[0m\u001b[37m\u001b[0m \u001b[1m0s\u001b[0m 2ms/step \n",
            "q Level 0.23: NSE Train = 0.9450389948502522, NSE Test = 0.874351979686006\n",
            "(1460, 1, 12) (1460,) (728, 1, 12) (728,)\n",
            "(1460, 1, 12) (1460,) (728, 1, 12) (728,)\n"
          ]
        },
        {
          "output_type": "stream",
          "name": "stderr",
          "text": [
            "/usr/local/lib/python3.10/dist-packages/keras/src/layers/rnn/rnn.py:204: UserWarning: Do not pass an `input_shape`/`input_dim` argument to a layer. When using Sequential models, prefer using an `Input(shape)` object as the first layer in the model instead.\n",
            "  super().__init__(**kwargs)\n"
          ]
        },
        {
          "output_type": "stream",
          "name": "stdout",
          "text": [
            "\u001b[1m46/46\u001b[0m \u001b[32m━━━━━━━━━━━━━━━━━━━━\u001b[0m\u001b[37m\u001b[0m \u001b[1m1s\u001b[0m 15ms/step\n",
            "\u001b[1m23/23\u001b[0m \u001b[32m━━━━━━━━━━━━━━━━━━━━\u001b[0m\u001b[37m\u001b[0m \u001b[1m0s\u001b[0m 3ms/step\n",
            "q Level 0.24: NSE Train = 0.9468352723072393, NSE Test = 0.89476140092553\n",
            "(1460, 1, 12) (1460,) (728, 1, 12) (728,)\n",
            "(1460, 1, 12) (1460,) (728, 1, 12) (728,)\n"
          ]
        },
        {
          "output_type": "stream",
          "name": "stderr",
          "text": [
            "/usr/local/lib/python3.10/dist-packages/keras/src/layers/rnn/rnn.py:204: UserWarning: Do not pass an `input_shape`/`input_dim` argument to a layer. When using Sequential models, prefer using an `Input(shape)` object as the first layer in the model instead.\n",
            "  super().__init__(**kwargs)\n"
          ]
        },
        {
          "output_type": "stream",
          "name": "stdout",
          "text": [
            "\u001b[1m46/46\u001b[0m \u001b[32m━━━━━━━━━━━━━━━━━━━━\u001b[0m\u001b[37m\u001b[0m \u001b[1m1s\u001b[0m 13ms/step\n",
            "\u001b[1m23/23\u001b[0m \u001b[32m━━━━━━━━━━━━━━━━━━━━\u001b[0m\u001b[37m\u001b[0m \u001b[1m0s\u001b[0m 3ms/step\n",
            "q Level 0.25: NSE Train = 0.94701920373675, NSE Test = 0.879330213212837\n",
            "The best model has been saved as 'best_model.pkl'.\n"
          ]
        }
      ],
      "source": [
        "# Define quantile levels\n",
        "quantile_levels = np.arange(0, 0.251, 0.01)\n",
        "nse_values = []\n",
        "best_model = None  # Variable for the model stocking\n",
        "\n",
        "for q_level in quantile_levels:\n",
        "\n",
        " # Creating dataframe for the training\n",
        " data_train = pd.DataFrame({\n",
        "    'mean_HyMoLAP': mean_trajectory[:-1],\n",
        "    #'var_HyMoLAP': var_trajectory[:-1],\n",
        "    'diff_HyMoLAP': quantile_results[q_level]['diff'][:-1],\n",
        "    #'mode_HyMoLAP': mode_trajectory[:-1],\n",
        "    'min_HyMoLAP': quantile_results[q_level]['min_trajectory'][:-1],\n",
        "    'max_HyMoLAP': quantile_results[q_level]['max_trajectory'][:-1],\n",
        "\n",
        "    'target': discharge[1:]\n",
        " })\n",
        "\n",
        " # Creating dataframe for  testing the model\n",
        " data_test = pd.DataFrame({\n",
        "    'mean_HyMoLAP': mean_trajectory1[:-1],\n",
        "    #'var_HyMoLAP': var_trajectory1[:-1],\n",
        "    'diff_HyMoLAP': quantile_results1[q_level]['diff1'][:-1],\n",
        "    #'mode_HyMoLAP': mode_trajectory1[:-1],\n",
        "    'min_HyMoLAP': quantile_results1[q_level]['min_trajectory1'][:-1],\n",
        "    'max_HyMoLAP': quantile_results1[q_level]['max_trajectory1'][:-1],\n",
        "\n",
        "    'target': discharge1[1:]\n",
        " })\n",
        "\n",
        " # Concatenate the two DataFrames (calibration + validation)\n",
        " data = pd.concat([data_train, data_test], ignore_index=True)\n",
        "\n",
        " #WAVELET TRANSFORM\n",
        " #  Exclude the last column ('target')\n",
        " columns_to_transform = data.columns[:-1]  # All columns except the last one\n",
        " data_transformed = data[columns_to_transform].apply(lambda x: wavelet_transform(x, wavelet='db2', level=3), axis=0)\n",
        "\n",
        " # Reattach the 'target' column without transformation\n",
        " data_transformed['target'] = data['target']\n",
        "\n",
        " # Retain column names\n",
        " data_transformed = pd.DataFrame(data_transformed, columns=data.columns)\n",
        "\n",
        " # Convert to pd.Dataframe\n",
        " data = pd.DataFrame(data_transformed)\n",
        "\n",
        " # Dictionary to store NSE results\n",
        " nse_results = {}\n",
        "\n",
        " #Include look_back\n",
        " look_back = 2\n",
        " horizon = 1\n",
        " data_Xy = history_and_horizon_sequencing(data, look_back, horizon, target='target')\n",
        " data_Xy.dropna(inplace=True)\n",
        "\n",
        "\n",
        " #split data\n",
        " train_X, train_y, test_X, test_y = split_train_test(data_Xy.values, n_train_hours = 1460);\n",
        "\n",
        " # Normalize features\n",
        " values = data_Xy.values.astype('float32')\n",
        " scaler = MinMaxScaler(feature_range=(0, 1))\n",
        " scaled_values = scaler.fit_transform(values)\n",
        "\n",
        " # Create train/tests datasets from scaled_data\n",
        " scaled_train_X, scaled_train_y, scaled_test_X, scaled_test_y = split_train_test(scaled_values);\n",
        "\n",
        " # Build stacked_gru_model\n",
        " input_shape = (train_X.shape[1], train_X.shape[2])\n",
        " gru_model_new = build_stacked_gru_model(input_shape, nb_neurons=95)\n",
        "\n",
        " # Train stacked_lstm_model\n",
        " gru_model_new.compile(optimizer='adam', loss='mse')\n",
        " train_model(gru_model_new, scaled_train_X, scaled_train_y, scaled_test_X, scaled_test_y, epochs=700, batch_size= 2048, verbose=0)\n",
        "\n",
        " # make a prediction: Train\n",
        " gru_scaled_yhat = gru_model_new.predict(scaled_train_X)\n",
        " inv_yhat1 = invert_scaling(scaled_train_X, gru_scaled_yhat)\n",
        "\n",
        " # make a prediction: Test\n",
        " scaled_stacked_gru_yhat = gru_model_new.predict(scaled_test_X)\n",
        " inv_yhat = invert_scaling(scaled_test_X, scaled_stacked_gru_yhat)\n",
        "\n",
        " # Calculate NSE\n",
        " nse_train = nash_sutcliffe_efficiency(train_y, inv_yhat1)\n",
        " nse_test = nash_sutcliffe_efficiency(test_y, inv_yhat)\n",
        "\n",
        " # Add test NSE to the\n",
        " nse_values.append(nse_test)\n",
        "\n",
        " # Store NSE values\n",
        " nse_results[(q_level, q_level)] = (nse_train, nse_test)\n",
        " print(f\"q Level {q_level}: NSE Train = {nse_train}, NSE Test = {nse_test}\")\n",
        "\n",
        "\n",
        " # Initialize a dictionary to store model parameters\n",
        " best_model_params = {}\n",
        "\n",
        " # Pick the best model\n",
        " if best_model is None or nse_test > best_nse_test:\n",
        "    best_model = gru_model_new\n",
        "    best_nse_test = nse_test\n",
        "    q_best = q_level\n",
        "\n",
        "\n",
        "\n",
        " # Save the best model and its parameters\n",
        " joblib.dump(best_model, 'best_model.pkl')\n",
        "\n",
        "\n",
        "print(\"The best model has been saved as 'best_model.pkl'.\")\n",
        "\n",
        "# Charger le modèle enregistré pour les futures prédictions\n",
        "loaded_model = joblib.load('best_model.pkl')\n"
      ]
    },
    {
      "cell_type": "code",
      "execution_count": null,
      "metadata": {
        "colab": {
          "base_uri": "https://localhost:8080/",
          "height": 307
        },
        "id": "j5pnUz84x9uD",
        "outputId": "bd6f070b-da27-4704-e0dd-6979a5fca698"
      },
      "outputs": [
        {
          "output_type": "display_data",
          "data": {
            "text/plain": [
              "<IPython.core.display.Javascript object>"
            ],
            "application/javascript": [
              "\n",
              "    async function download(id, filename, size) {\n",
              "      if (!google.colab.kernel.accessAllowed) {\n",
              "        return;\n",
              "      }\n",
              "      const div = document.createElement('div');\n",
              "      const label = document.createElement('label');\n",
              "      label.textContent = `Downloading \"${filename}\": `;\n",
              "      div.appendChild(label);\n",
              "      const progress = document.createElement('progress');\n",
              "      progress.max = size;\n",
              "      div.appendChild(progress);\n",
              "      document.body.appendChild(div);\n",
              "\n",
              "      const buffers = [];\n",
              "      let downloaded = 0;\n",
              "\n",
              "      const channel = await google.colab.kernel.comms.open(id);\n",
              "      // Send a message to notify the kernel that we're ready.\n",
              "      channel.send({})\n",
              "\n",
              "      for await (const message of channel.messages) {\n",
              "        // Send a message to notify the kernel that we're ready.\n",
              "        channel.send({})\n",
              "        if (message.buffers) {\n",
              "          for (const buffer of message.buffers) {\n",
              "            buffers.push(buffer);\n",
              "            downloaded += buffer.byteLength;\n",
              "            progress.value = downloaded;\n",
              "          }\n",
              "        }\n",
              "      }\n",
              "      const blob = new Blob(buffers, {type: 'application/binary'});\n",
              "      const a = document.createElement('a');\n",
              "      a.href = window.URL.createObjectURL(blob);\n",
              "      a.download = filename;\n",
              "      div.appendChild(a);\n",
              "      a.click();\n",
              "      div.remove();\n",
              "    }\n",
              "  "
            ]
          },
          "metadata": {}
        },
        {
          "output_type": "display_data",
          "data": {
            "text/plain": [
              "<IPython.core.display.Javascript object>"
            ],
            "application/javascript": [
              "download(\"download_1496f6af-1d5b-4d68-9efb-53f62d718826\", \"range2.png\", 160142)"
            ]
          },
          "metadata": {}
        },
        {
          "output_type": "display_data",
          "data": {
            "text/plain": [
              "<Figure size 600x300 with 1 Axes>"
            ],
            "image/png": "[encoded data removed]"
          },
          "metadata": {}
        }
      ],
      "source": [
        "# Given quantile levels\n",
        "quantile_levels = np.arange(0, 0.251, 0.01)\n",
        "n = len(quantile_levels)\n",
        "\n",
        "# Find the index of the maximum NSE value\n",
        "max_idx = np.argmax(nse_values)\n",
        "max_value = nse_values[max_idx]\n",
        "max_quantile = quantile_levels[max_idx]\n",
        "\n",
        "# Plot NSE results with an arrow and the text NSE=max_value\n",
        "plt.figure(figsize=(6, 3))\n",
        "plt.plot(quantile_levels, nse_values[:n], linestyle='-', linewidth=1)  # Reduce linewidth for a finer curve\n",
        "plt.xlabel('Quantile Level (qL)')\n",
        "plt.ylabel('Nash-Sutcliffe Efficiency (NSE)')\n",
        "# plt.grid()\n",
        "plt.xticks(np.arange(0, 0.5, 0.05))  # Adjust x-axis ticks as needed\n",
        "plt.ylim(0.7, 1)  # Adjust y-axis limits as needed\n",
        "plt.xlim(-0.01, 0.27)   # Limit x-axis to 0.27\n",
        "\n",
        "# Add an arrow with the text NSE=max_value and the quantile level\n",
        "plt.annotate(f'(qL={max_quantile:.2f}, NSE={max_value:.3f})',\n",
        "             xy=(max_quantile, max_value),\n",
        "             xytext=(max_quantile, max_value + 0.05),\n",
        "             arrowprops=dict(facecolor='red', arrowstyle=\"->\"),\n",
        "             fontsize=10, color='red')\n",
        "\n",
        "# Use tight_layout to avoid overlapping\n",
        "plt.tight_layout()\n",
        "\n",
        "# Save the plot as a .jpeg file\n",
        "plt.savefig(\"range2.png\", format='png', dpi=500)\n",
        "\n",
        "# Download the file\n",
        "files.download(\"range2.png\")\n",
        "\n",
        "plt.show()\n"
      ]
    },
    {
      "cell_type": "code",
      "execution_count": null,
      "metadata": {
        "id": "I_cwUdcPyLrj"
      },
      "outputs": [],
      "source": [
        "# Use the model after saving\n",
        "q_level = q_best\n",
        "\n",
        "data_train = pd.DataFrame({\n",
        "    'mean_HyMoLAP': mean_trajectory[:-1],\n",
        "    # 'var_HyMoLAP': var_trajectory[:-1],\n",
        "    'diff_HyMoLAP': quantile_results[q_level]['diff'][:-1],\n",
        "    # 'mode_HyMoLAP': mode_trajectory[:-1],\n",
        "    'min_HyMoLAP': quantile_results[q_level]['min_trajectory'][:-1],\n",
        "    'max_HyMoLAP': quantile_results[q_level]['max_trajectory'][:-1],\n",
        "    'target': discharge[1:]\n",
        "})\n",
        "\n",
        "# Create the DataFrame for validation (test)\n",
        "data_test = pd.DataFrame({\n",
        "    'mean_HyMoLAP': mean_trajectory1[:-1],  # Use the same column names\n",
        "    # 'var_HyMoLAP': var_trajectory1[:-1],\n",
        "    'diff_HyMoLAP': quantile_results1[q_level]['diff1'][:-1],\n",
        "    # 'mode_HyMoLAP': mode_trajectory1[:-1],\n",
        "    'min_HyMoLAP': quantile_results1[q_level]['min_trajectory1'][:-1],\n",
        "    'max_HyMoLAP': quantile_results1[q_level]['max_trajectory1'][:-1],\n",
        "    'target': discharge1[1:]\n",
        "})\n",
        "\n",
        "# Concatenate the two DataFrames (calibration + validation)\n",
        "data = pd.concat([data_train, data_test], ignore_index=True)\n",
        "\n",
        "# WAVELET TRANSFORM\n",
        "# Exclude the last column ('target')\n",
        "columns_to_transform = data.columns[:-1]  # All columns except the last one\n",
        "data_transformed = data[columns_to_transform].apply(lambda x: wavelet_transform(x, wavelet='db2', level=3), axis=0)\n",
        "\n",
        "# Reattach the 'target' column without transformation\n",
        "data_transformed['target'] = data['target']\n",
        "\n",
        "# Retain column names\n",
        "data_transformed = pd.DataFrame(data_transformed, columns=data.columns)\n",
        "\n",
        "# Convert to pd.DataFrame\n",
        "data = pd.DataFrame(data_transformed)\n",
        "\n",
        "# Include look_back\n",
        "look_back = 2\n",
        "horizon = 1\n",
        "data_Xy = history_and_horizon_sequencing(data, look_back, horizon, target='target')\n",
        "data_Xy.dropna(inplace=True)\n",
        "\n",
        "# Split data\n",
        "train_X, train_y, test_X, test_y = split_train_test(data_Xy.values, n_train_hours=1460)\n",
        "\n",
        "# Normalize features\n",
        "values = data_Xy.values.astype('float32')\n",
        "scaler = MinMaxScaler(feature_range=(0, 1))\n",
        "scaled_values = scaler.fit_transform(values)\n",
        "\n",
        "# Create train/test datasets from scaled data\n",
        "scaled_train_X, scaled_train_y, scaled_test_X, scaled_test_y = split_train_test(scaled_values)\n",
        "\n",
        "# Make a prediction: Train\n",
        "gru_scaled_yhat = loaded_model.predict(scaled_train_X)\n",
        "# Compute performance\n",
        "inv_yhat1 = invert_scaling(scaled_train_X, gru_scaled_yhat)\n",
        "\n",
        "# Make a prediction: Test\n",
        "scaled_stacked_gru_yhat = loaded_model.predict(scaled_test_X)\n",
        "# Compute performance\n",
        "inv_yhat = invert_scaling(scaled_test_X, scaled_stacked_gru_yhat)\n"
      ]
    },
    {
      "cell_type": "markdown",
      "source": [
        "Plots for validation"
      ],
      "metadata": {
        "id": "RvIHkicj3635"
      }
    },
    {
      "cell_type": "code",
      "execution_count": null,
      "metadata": {
        "colab": {
          "base_uri": "https://localhost:8080/",
          "height": 257
        },
        "id": "f9ueTwRk40aY",
        "outputId": "d101c214-0ef9-42f4-f597-80e75231465b"
      },
      "outputs": [
        {
          "output_type": "display_data",
          "data": {
            "text/plain": [
              "<Figure size 500x250 with 2 Axes>"
            ],
            "image/png": "[encoded data removed]"
          },
          "metadata": {}
        }
      ],
      "source": [
        "# Generate the date range\n",
        "time1 = np.datetime64('2004-01-04')  # Start date\n",
        "time2 = np.datetime64('2005-12-31')  # End date\n",
        "time = np.arange(time1, time2 + np.timedelta64(1, 'D'), dtype='datetime64[D]')  # Daily date range\n",
        "\n",
        "fig, ax1 = plt.subplots(figsize=(5., 2.5))\n",
        "\n",
        "# Plot precipitation (plui1) as bars on ax1\n",
        "ax1.bar(time, plui1[3:], color='black')\n",
        "\n",
        "# Format the x-axis to display only the start of each year\n",
        "ax1.xaxis.set_major_locator(mdates.YearLocator())  # One label per year\n",
        "ax1.xaxis.set_major_formatter(mdates.DateFormatter('%Y'))  # Date format 'YYYY'\n",
        "\n",
        "# Align the date labels horizontally (no rotation)\n",
        "plt.xticks(rotation=0)\n",
        "\n",
        "# Label for the x-axis\n",
        "ax1.set_xlabel('Date [day]')\n",
        "\n",
        "# Parameters for the y-axis (precipitation)\n",
        "ax1.set_ylabel('Precipitation [mm]', color='black')\n",
        "ax1.tick_params(axis='y', labelcolor='black')\n",
        "ax1.set_ylim(0, 100)\n",
        "ax1.set_yticks(np.arange(0, 101, 20))\n",
        "\n",
        "# Invert the y-axis for precipitation\n",
        "ax1.invert_yaxis()\n",
        "ax1.yaxis.set_label_position(\"left\")\n",
        "\n",
        "# Create a second y-axis for discharge (Qobs)\n",
        "ax2 = ax1.twinx()\n",
        "ax2.plot(time, discharge1[3:], 'b', label='Qobs')  # Plot observed discharge in blue\n",
        "\n",
        "# Plot the mean trajectories (Qsim)\n",
        "ax2.plot(time, inv_yhat, 'red', label='Qsim')  # Plot simulated discharge in red\n",
        "\n",
        "# Parameters for the y-axis (discharge)\n",
        "ax2.set_ylabel('Discharge [m³/s]', color='blue')\n",
        "ax2.tick_params(axis='y', labelcolor='blue')\n",
        "ax2.set_ylim(-100, 1600)\n",
        "ax2.set_yticks(np.arange(0, 1600, 400))\n",
        "\n",
        "# Add a legend inside the plot\n",
        "fig.legend(loc='upper left', bbox_to_anchor=(0.14, 0.75))\n",
        "\n",
        "# Use tight_layout to avoid overlapping elements\n",
        "plt.tight_layout()\n",
        "\n",
        "# Save the plot as a .jpeg file\n",
        "plt.savefig(\"sto_hyb_wgru2.jpeg\", format='jpeg', dpi=500)\n",
        "\n",
        "# Optional: Download the file\n",
        "# files.download(\"sto_hyb_wgru2.jpeg\")\n",
        "\n",
        "# Display the plot\n",
        "plt.show()\n"
      ]
    },
    {
      "cell_type": "code",
      "execution_count": null,
      "metadata": {
        "colab": {
          "base_uri": "https://localhost:8080/",
          "height": 34
        },
        "id": "JwE4oASAQXHh",
        "outputId": "b0cb34b9-91d3-4169-da91-00bcf0b220f3"
      },
      "outputs": [
        {
          "output_type": "stream",
          "name": "stdout",
          "text": [
            "La trajectoire moyenne a été enregistrée dans 'Sto_wgru.xlsx'.\n"
          ]
        },
        {
          "output_type": "display_data",
          "data": {
            "text/plain": [
              "<IPython.core.display.Javascript object>"
            ],
            "application/javascript": [
              "\n",
              "    async function download(id, filename, size) {\n",
              "      if (!google.colab.kernel.accessAllowed) {\n",
              "        return;\n",
              "      }\n",
              "      const div = document.createElement('div');\n",
              "      const label = document.createElement('label');\n",
              "      label.textContent = `Downloading \"${filename}\": `;\n",
              "      div.appendChild(label);\n",
              "      const progress = document.createElement('progress');\n",
              "      progress.max = size;\n",
              "      div.appendChild(progress);\n",
              "      document.body.appendChild(div);\n",
              "\n",
              "      const buffers = [];\n",
              "      let downloaded = 0;\n",
              "\n",
              "      const channel = await google.colab.kernel.comms.open(id);\n",
              "      // Send a message to notify the kernel that we're ready.\n",
              "      channel.send({})\n",
              "\n",
              "      for await (const message of channel.messages) {\n",
              "        // Send a message to notify the kernel that we're ready.\n",
              "        channel.send({})\n",
              "        if (message.buffers) {\n",
              "          for (const buffer of message.buffers) {\n",
              "            buffers.push(buffer);\n",
              "            downloaded += buffer.byteLength;\n",
              "            progress.value = downloaded;\n",
              "          }\n",
              "        }\n",
              "      }\n",
              "      const blob = new Blob(buffers, {type: 'application/binary'});\n",
              "      const a = document.createElement('a');\n",
              "      a.href = window.URL.createObjectURL(blob);\n",
              "      a.download = filename;\n",
              "      div.appendChild(a);\n",
              "      a.click();\n",
              "      div.remove();\n",
              "    }\n",
              "  "
            ]
          },
          "metadata": {}
        },
        {
          "output_type": "display_data",
          "data": {
            "text/plain": [
              "<IPython.core.display.Javascript object>"
            ],
            "application/javascript": [
              "download(\"download_00f0983a-c3ee-4ce1-aef0-ffc71ce4dcb0\", \"Sto_wgru.xlsx\", 16092)"
            ]
          },
          "metadata": {}
        }
      ],
      "source": [
        "# Create a DataFrame to save the mean trajectory into an Excel file\n",
        "df_mean_trajectory = pd.DataFrame({'Mean_Trajectory': inv_yhat})\n",
        "\n",
        "# Save the DataFrame to an Excel file\n",
        "df_mean_trajectory.to_excel('Sto_wgru.xlsx', index=False)\n",
        "\n",
        "print(\"La trajectoire moyenne a été enregistrée dans 'Sto_wgru.xlsx'.\")\n",
        "\n",
        "# Download the file in Google Colab\n",
        "files.download('Sto_wgru.xlsx')"
      ]
    },
    {
      "cell_type": "code",
      "execution_count": null,
      "metadata": {
        "colab": {
          "base_uri": "https://localhost:8080/",
          "height": 257
        },
        "id": "na7-zcWV69Ij",
        "outputId": "01aa0507-fe91-47ad-d3ce-0039badf4cbb"
      },
      "outputs": [
        {
          "output_type": "display_data",
          "data": {
            "text/plain": [
              "<IPython.core.display.Javascript object>"
            ],
            "application/javascript": [
              "\n",
              "    async function download(id, filename, size) {\n",
              "      if (!google.colab.kernel.accessAllowed) {\n",
              "        return;\n",
              "      }\n",
              "      const div = document.createElement('div');\n",
              "      const label = document.createElement('label');\n",
              "      label.textContent = `Downloading \"${filename}\": `;\n",
              "      div.appendChild(label);\n",
              "      const progress = document.createElement('progress');\n",
              "      progress.max = size;\n",
              "      div.appendChild(progress);\n",
              "      document.body.appendChild(div);\n",
              "\n",
              "      const buffers = [];\n",
              "      let downloaded = 0;\n",
              "\n",
              "      const channel = await google.colab.kernel.comms.open(id);\n",
              "      // Send a message to notify the kernel that we're ready.\n",
              "      channel.send({})\n",
              "\n",
              "      for await (const message of channel.messages) {\n",
              "        // Send a message to notify the kernel that we're ready.\n",
              "        channel.send({})\n",
              "        if (message.buffers) {\n",
              "          for (const buffer of message.buffers) {\n",
              "            buffers.push(buffer);\n",
              "            downloaded += buffer.byteLength;\n",
              "            progress.value = downloaded;\n",
              "          }\n",
              "        }\n",
              "      }\n",
              "      const blob = new Blob(buffers, {type: 'application/binary'});\n",
              "      const a = document.createElement('a');\n",
              "      a.href = window.URL.createObjectURL(blob);\n",
              "      a.download = filename;\n",
              "      div.appendChild(a);\n",
              "      a.click();\n",
              "      div.remove();\n",
              "    }\n",
              "  "
            ]
          },
          "metadata": {}
        },
        {
          "output_type": "display_data",
          "data": {
            "text/plain": [
              "<IPython.core.display.Javascript object>"
            ],
            "application/javascript": [
              "download(\"download_904c06fa-f357-4310-9f7c-c25e03941604\", \"sca_sto_hyb_wgru2.jpeg\", 81672)"
            ]
          },
          "metadata": {}
        },
        {
          "output_type": "display_data",
          "data": {
            "text/plain": [
              "<Figure size 500x250 with 1 Axes>"
            ],
            "image/png": "[encoded data removed]"
          },
          "metadata": {}
        }
      ],
      "source": [
        "# Scatter plot of observed (Qobs) vs simulated (Qsim) values\n",
        "plt.figure(figsize=(5, 2.5))\n",
        "plt.scatter(discharge1[3:], inv_yhat, color='red', marker='.')  # Scatter plot of the values\n",
        "plt.xlabel('Qobs [m³/s]')  # Label for the x-axis (observed discharge)\n",
        "plt.ylabel('Qsim [m³/s]')  # Label for the y-axis (simulated discharge)\n",
        "\n",
        "# Adjust the x and y-axis limits based on the data\n",
        "plt.xlim(0, 1000)\n",
        "plt.ylim(0, 1000)\n",
        "\n",
        "# Add a reference line y=x (the perfect fit line)\n",
        "plt.plot([0, 1000], [0, 1000], color='black', linestyle='--')\n",
        "\n",
        "# Use tight_layout to avoid label clipping issues\n",
        "plt.tight_layout()\n",
        "\n",
        "# Save the plot as a .jpeg file before displaying it\n",
        "plt.savefig(\"sca_sto_hyb_wgru2.jpeg\", format='jpeg', dpi=500)\n",
        "\n",
        "# Download the file to your laptop\n",
        "files.download(\"sca_sto_hyb_wgru2.jpeg\")\n",
        "\n",
        "# Now display the plot\n",
        "plt.show()\n"
      ]
    }
  ],
  "metadata": {
    "colab": {
      "provenance": []
    },
    "kernelspec": {
      "display_name": "Python 3",
      "name": "python3"
    },
    "language_info": {
      "name": "python"
    }
  },
  "nbformat": 4,
  "nbformat_minor": 0
}