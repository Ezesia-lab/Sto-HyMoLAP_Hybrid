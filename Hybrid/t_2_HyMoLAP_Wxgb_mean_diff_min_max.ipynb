{
  "cells": [
    {
      "cell_type": "code",
      "execution_count": null,
      "metadata": {
        "colab": {
          "base_uri": "https://localhost:8080/"
        },
        "id": "cc7hgTudX1rT",
        "outputId": "513f4b0e-76f4-4423-9af9-cc643373924f"
      },
      "outputs": [
        {
          "output_type": "stream",
          "name": "stdout",
          "text": [
            "Collecting PyWavelets\n",
            "  Downloading pywavelets-1.7.0-cp310-cp310-manylinux_2_17_x86_64.manylinux2014_x86_64.whl.metadata (9.0 kB)\n",
            "Requirement already satisfied: numpy<3,>=1.23 in /usr/local/lib/python3.10/dist-packages (from PyWavelets) (1.26.4)\n",
            "Downloading pywavelets-1.7.0-cp310-cp310-manylinux_2_17_x86_64.manylinux2014_x86_64.whl (4.5 MB)\n",
            "\u001b[2K   \u001b[90m━━━━━━━━━━━━━━━━━━━━━━━━━━━━━━━━━━━━━━━━\u001b[0m \u001b[32m4.5/4.5 MB\u001b[0m \u001b[31m31.8 MB/s\u001b[0m eta \u001b[36m0:00:00\u001b[0m\n",
            "\u001b[?25hInstalling collected packages: PyWavelets\n",
            "Successfully installed PyWavelets-1.7.0\n"
          ]
        }
      ],
      "source": [
        "!pip install PyWavelets"
      ]
    },
    {
      "cell_type": "code",
      "execution_count": null,
      "metadata": {
        "id": "QHwImzYDzpMn"
      },
      "outputs": [],
      "source": [
        "import numpy as np\n",
        "import pandas as pd\n",
        "from sklearn.svm import SVR\n",
        "from sklearn.model_selection import train_test_split, GridSearchCV\n",
        "from sklearn.metrics import mean_squared_error\n",
        "from scipy.stats import norm\n",
        "\n",
        "import pywt\n",
        "\n",
        "import matplotlib.pyplot as plt\n",
        "\n",
        "from sklearn.model_selection import GridSearchCV, RepeatedKFold\n",
        "from sklearn.pipeline import Pipeline\n",
        "from sklearn.preprocessing import StandardScaler\n",
        "\n",
        "from xgboost import XGBRegressor\n",
        "from sklearn.ensemble import GradientBoostingRegressor\n",
        "from sklearn.model_selection import RandomizedSearchCV, KFold\n",
        "\n",
        "import joblib\n",
        "from google.colab import files\n"
      ]
    },
    {
      "cell_type": "code",
      "source": [
        "import random\n",
        "import os\n",
        "\n",
        "#  Fixing the seed for allowing reproductivity\n",
        "random.seed(42)\n",
        "np.random.seed(42)\n",
        "os.environ['PYTHONHASHSEED'] = '42'"
      ],
      "metadata": {
        "id": "gDWBRCa3KUqh"
      },
      "execution_count": null,
      "outputs": []
    },
    {
      "cell_type": "code",
      "execution_count": null,
      "metadata": {
        "id": "Rq8OX1O_Fb5K"
      },
      "outputs": [],
      "source": [
        "#  NSE\n",
        "def nash_sutcliffe_efficiency(observed, simulated):\n",
        "    obs_mean = np.mean(observed)\n",
        "    numerator = np.sum((observed - simulated) ** 2)\n",
        "    denominator = np.sum((observed - obs_mean) ** 2)\n",
        "\n",
        "    nse = 1 - (numerator / denominator)\n",
        "    return nse\n"
      ]
    },
    {
      "cell_type": "code",
      "execution_count": null,
      "metadata": {
        "id": "9SmHZJg04fSJ"
      },
      "outputs": [],
      "source": [
        "from scipy.stats import levy_stable"
      ]
    },
    {
      "cell_type": "code",
      "execution_count": null,
      "metadata": {
        "colab": {
          "base_uri": "https://localhost:8080/"
        },
        "id": "1mIhTZvV-W7i",
        "outputId": "1350d04a-53c4-47aa-a827-9d90aa4b6f85"
      },
      "outputs": [
        {
          "output_type": "stream",
          "name": "stdout",
          "text": [
            "Mounted at /content/drive\n"
          ]
        }
      ],
      "source": [
        "from google.colab import drive\n",
        "drive.mount('/content/drive')"
      ]
    },
    {
      "cell_type": "markdown",
      "metadata": {
        "id": "RG-6iHtX8gmS"
      },
      "source": [
        "HyMoLAP"
      ]
    },
    {
      "cell_type": "code",
      "execution_count": null,
      "metadata": {
        "id": "rJJipHzl8nhA"
      },
      "outputs": [],
      "source": [
        "daily = pd.read_excel('/content/drive/MyDrive/Colab Notebooks/Bonou.xlsx')\n",
        "\n",
        "discharge = daily.iloc[:1461, 0].to_numpy()\n",
        "plui = daily.iloc[:1461, 1].to_numpy()\n",
        "etp = daily.iloc[:1461, 2].to_numpy()\n",
        "\n",
        "\n",
        "#Compute the Effective precipitation\n",
        "prec_eff = plui - etp\n",
        "prec_eff[prec_eff < 0] = 0\n",
        "\n",
        "# X(t)\n",
        "def state_basin(MU, LANDA, q):\n",
        "    n = len(q)\n",
        "    X = np.zeros(n)\n",
        "    X[0] = q[0]\n",
        "    for i in range(1, n):\n",
        "        if q[i] == 0:\n",
        "            X[i] = X[i - 1] - (MU / LANDA) * X[i - 1]\n",
        "        else:\n",
        "            X[i] = X[i - 1] + (MU / LANDA) * q[i]\n",
        "    return X\n",
        "\n",
        "# parameters obtained after Sto. HyMoLAP calibration\n",
        "mu = 0.8136   # which is a in the paper\n",
        "lambd = 2.9416   # which is b in the paper\n",
        "sigma = 0.0035    # which is theta in the paper\n",
        "\n",
        "# Lévy process parameters obtained after Sto. HyMoLAP calibration\n",
        "alpha = 1.3\n",
        "beta =  -0.8\n",
        "gammaa = 1\n",
        "delta = 0\n",
        "\n",
        "#X(t)\n",
        "X = state_basin(mu, lambd, prec_eff)\n",
        "\n",
        "n_traj = 300000      # Large number of trajectories for allowing robust estimation of the distribution properties\n",
        "QQ = np.zeros((len(discharge),n_traj))\n",
        "\n",
        "for i in range(n_traj):\n",
        "\n",
        "   #Simulate Lévy process\n",
        "   Lev=[]\n",
        "   Lev = levy_stable.rvs(alpha, beta, loc=delta, scale=gammaa, size=len(discharge))\n",
        "\n",
        "   #Model\n",
        "   S = np.zeros(len(discharge))\n",
        "   S[0] = discharge[0]\n",
        "   for k in range(1, len(discharge)):\n",
        "        if S[k - 1]<0:\n",
        "          S[k - 1] = 0\n",
        "        S[k] = S[k - 1] - (mu/lambd) * S[k-1]**(2*mu-1) + (1/lambd) * X[k-1] * prec_eff[k-1] + sigma * S[k - 1] * (Lev[k]-Lev[k - 1])\n",
        "\n",
        "   QQ[:, i] = S.copy()\n",
        "\n",
        "mean_trajectory = np.mean(QQ, axis=1)\n",
        "var_trajectory = np.std(QQ, axis=1)** 2\n",
        "\n",
        "# Variation of quantile level between 0 and 0.25 with a step of 0.001\n",
        "quantile_levels = np.arange(0, 0.251, 0.001)\n",
        "quantile_results = {}\n",
        "\n",
        "for q_level in quantile_levels:\n",
        "    min_trajectory = pd.DataFrame(QQ).quantile(q_level, axis=1).to_numpy()\n",
        "    max_trajectory = pd.DataFrame(QQ).quantile(1 - q_level, axis=1).to_numpy()\n",
        "    diff = max_trajectory - min_trajectory\n",
        "\n",
        "    # Store results for each quantile level\n",
        "    quantile_results[q_level] = {\n",
        "        'min_trajectory': min_trajectory,\n",
        "        'max_trajectory': max_trajectory,\n",
        "        'diff': diff\n",
        "    }\n"
      ]
    },
    {
      "cell_type": "markdown",
      "source": [
        "Validation of HyMoLAP"
      ],
      "metadata": {
        "id": "fTSlDvTv1JEH"
      }
    },
    {
      "cell_type": "code",
      "execution_count": null,
      "metadata": {
        "id": "IpWbFCYV49Ii"
      },
      "outputs": [],
      "source": [
        "discharge1 = daily.iloc[1461:, 0].to_numpy()\n",
        "plui1 = daily.iloc[1461:, 1].to_numpy()\n",
        "etp1 = daily.iloc[1461:, 2].to_numpy()\n",
        "\n",
        "#Compute the Effective precipitation\n",
        "plui_eff1 = plui1 - etp1\n",
        "plui_eff1[plui_eff1 < 0] = 0\n",
        "\n",
        "# Simulation with the SDE\n",
        "size = len(discharge1)\n",
        "n_traj = 300000\n",
        "QQ = np.zeros((size,n_traj))\n",
        "\n",
        "X = state_basin(mu, lambd, plui_eff1)\n",
        "\n",
        "for i in range(n_traj):\n",
        "\n",
        "   #Simulate Lévy process\n",
        "   Lev=[]\n",
        "   Lev = levy_stable.rvs(alpha, beta, loc=delta, scale=gammaa, size=size)\n",
        "\n",
        "   #EQUATION\n",
        "   S = np.zeros(size)\n",
        "   S[0] = discharge1[0]\n",
        "   for k in range(1, size):\n",
        "        if S[k - 1]<0:\n",
        "          S[k - 1] = 0\n",
        "        S[k] = S[k - 1] - (mu/lambd) * S[k-1]**(2*mu-1) + (1/lambd) * X[k-1] * plui_eff1[k-1] + sigma * S[k - 1] * (Lev[k]-Lev[k - 1])\n",
        "\n",
        "   QQ[:, i] = S.copy()\n",
        "\n",
        "mean_trajectory1 = np.mean(QQ, axis=1)\n",
        "var_trajectory1 = np.std(QQ, axis=1)** 2\n",
        "\n",
        "# Variation of quantile level between 0 and 0.4 with a step of 0.001\n",
        "quantile_levels = np.arange(0, 0.251, 0.001)\n",
        "quantile_results1 = {}\n",
        "\n",
        "for q_level in quantile_levels:\n",
        "    min_trajectory1 = pd.DataFrame(QQ).quantile(q_level, axis=1).to_numpy()\n",
        "    max_trajectory1 = pd.DataFrame(QQ).quantile(1 - q_level, axis=1).to_numpy()\n",
        "    diff1 = max_trajectory1 - min_trajectory1\n",
        "\n",
        "    # Store results for each quantile level\n",
        "    quantile_results1[q_level] = {\n",
        "        'min_trajectory1': min_trajectory1,\n",
        "        'max_trajectory1': max_trajectory1,\n",
        "        'diff1': diff1\n",
        "    }\n"
      ]
    },
    {
      "cell_type": "markdown",
      "metadata": {
        "id": "7dcccrEf49HC"
      },
      "source": [
        "HYBRID"
      ]
    },
    {
      "cell_type": "code",
      "execution_count": null,
      "metadata": {
        "id": "6cHYF-PU0VA1"
      },
      "outputs": [],
      "source": [
        "# Preparation of data with different cases (min, max, diff) and delays\n",
        "def prepare_data(mean_trajectory, diff, var_trajectory, min_trajectory, max_trajectory, plui, etp, discharge):\n",
        "    data = pd.DataFrame({\n",
        "    'mean_HyMoLAP': mean_trajectory[2:-1],\n",
        "    'diff_HyMoLAP': diff[2:-1],\n",
        "    'min_HyMoLAP' : min_trajectory[2:-1],\n",
        "    'max_HyMoLAP' : max_trajectory[2:-1],\n",
        "    'var_HyMoLAP' : var_trajectory[2:-1],\n",
        "    'plui_HyMoLAP': plui[2:-1],\n",
        "    'etp_HyMoLAP': etp[2:-1],\n",
        "    'target': discharge[3:]\n",
        "    })\n",
        "\n",
        "    # Addition of delayed columns (t-1, t-2, t-3)\n",
        "    data['mean_HyMoLAP_t1'] = mean_trajectory[1:-2]\n",
        "    data['diff_HyMoLAP_t1'] = diff[1:-2]\n",
        "    data['min_HyMoLAP_t1'] = min_trajectory[1:-2]\n",
        "    data['max_HyMoLAP_t1'] = max_trajectory[1:-2]\n",
        "    data['var_HyMoLAP_t1'] = var_trajectory[1:-2]\n",
        "    data['plui_HyMoLAP_t1'] = plui[1:-2]\n",
        "    data['etp_HyMoLAP_t1'] = etp[1:-2]\n",
        "\n",
        "    data['mean_HyMoLAP_t2'] = mean_trajectory[:-3]\n",
        "    data['diff_HyMoLAP_t2'] = diff[:-3]\n",
        "    data['min_HyMoLAP_t2'] = min_trajectory[:-3]\n",
        "    data['max_HyMoLAP_t2'] = max_trajectory[:-3]\n",
        "    data['var_HyMoLAP_t2'] = var_trajectory[:-3]\n",
        "    data['plui_HyMoLAP_t2'] = plui[:-3]\n",
        "    data['etp_HyMoLAP_t2'] = etp[:-3]\n",
        "\n",
        "    return data\n"
      ]
    },
    {
      "cell_type": "code",
      "execution_count": null,
      "metadata": {
        "id": "ZdyZx8WLoSxV",
        "colab": {
          "base_uri": "https://localhost:8080/"
        },
        "outputId": "0f344b10-b3a1-4bf9-9359-b07f3322e0c9"
      },
      "outputs": [
        {
          "output_type": "stream",
          "name": "stdout",
          "text": [
            "q Level 0.0: NSE Train = 0.9881773480997134, NSE Test = 0.7406320356335563\n",
            "q Level 0.001: NSE Train = 0.9875376302525346, NSE Test = 0.8058611955672274\n",
            "q Level 0.002: NSE Train = 0.9931772455281451, NSE Test = 0.8057569268387881\n",
            "q Level 0.003: NSE Train = 0.9933693567913168, NSE Test = 0.7953015936441005\n",
            "q Level 0.004: NSE Train = 0.9933330613253114, NSE Test = 0.7903454999731642\n",
            "q Level 0.005: NSE Train = 0.9932428486046613, NSE Test = 0.7882034523777759\n",
            "q Level 0.006: NSE Train = 0.9942516671664079, NSE Test = 0.779801879144903\n",
            "q Level 0.007: NSE Train = 0.9947485974394389, NSE Test = 0.7951726840613903\n",
            "q Level 0.008: NSE Train = 0.9950025392087464, NSE Test = 0.801738776506152\n",
            "q Level 0.009000000000000001: NSE Train = 0.994754104530095, NSE Test = 0.7998282037039416\n",
            "q Level 0.01: NSE Train = 0.9904423490203828, NSE Test = 0.8258654374866131\n",
            "q Level 0.011: NSE Train = 0.9936400491901826, NSE Test = 0.8171396242868022\n",
            "q Level 0.012: NSE Train = 0.9942686593812018, NSE Test = 0.8332529333738153\n",
            "q Level 0.013000000000000001: NSE Train = 0.9900662153976739, NSE Test = 0.8568798509233349\n",
            "q Level 0.014: NSE Train = 0.9934377048464264, NSE Test = 0.8599967640173942\n",
            "q Level 0.015: NSE Train = 0.994462117661557, NSE Test = 0.8667354239103234\n",
            "q Level 0.016: NSE Train = 0.9931425057625038, NSE Test = 0.865776159585302\n",
            "q Level 0.017: NSE Train = 0.9935593259292425, NSE Test = 0.8655009252567016\n",
            "q Level 0.018000000000000002: NSE Train = 0.9936379748192641, NSE Test = 0.8673751258444131\n",
            "q Level 0.019: NSE Train = 0.9940943274465894, NSE Test = 0.8687043842772042\n",
            "q Level 0.02: NSE Train = 0.993520337215231, NSE Test = 0.8713546456471577\n",
            "q Level 0.021: NSE Train = 0.9939677838214931, NSE Test = 0.8701777294828652\n",
            "q Level 0.022: NSE Train = 0.9934982028901788, NSE Test = 0.8608032333508716\n",
            "q Level 0.023: NSE Train = 0.9940237411718629, NSE Test = 0.8720969998527832\n",
            "q Level 0.024: NSE Train = 0.9944843093926249, NSE Test = 0.8693457569875633\n",
            "q Level 0.025: NSE Train = 0.9944844441640941, NSE Test = 0.874409230381833\n",
            "q Level 0.026000000000000002: NSE Train = 0.993934246481953, NSE Test = 0.8674220997464643\n",
            "q Level 0.027: NSE Train = 0.9941547150149856, NSE Test = 0.8805385933288705\n",
            "q Level 0.028: NSE Train = 0.9934344963001042, NSE Test = 0.8765238410538827\n",
            "q Level 0.029: NSE Train = 0.9937192392142578, NSE Test = 0.8720658154720022\n",
            "q Level 0.03: NSE Train = 0.9935907046670005, NSE Test = 0.8610100595993462\n",
            "q Level 0.031: NSE Train = 0.989225315929902, NSE Test = 0.8661768000725888\n",
            "q Level 0.032: NSE Train = 0.99324152455455, NSE Test = 0.8636711914835967\n",
            "q Level 0.033: NSE Train = 0.9934288117377562, NSE Test = 0.8535649704011602\n",
            "q Level 0.034: NSE Train = 0.9934272883202799, NSE Test = 0.859370596229937\n",
            "q Level 0.035: NSE Train = 0.9938806187632524, NSE Test = 0.8648899383637587\n",
            "q Level 0.036000000000000004: NSE Train = 0.9891625234637513, NSE Test = 0.8481620456649519\n",
            "q Level 0.037: NSE Train = 0.9893071344914217, NSE Test = 0.8541968021001461\n",
            "q Level 0.038: NSE Train = 0.9938397716880387, NSE Test = 0.8626905684225155\n",
            "q Level 0.039: NSE Train = 0.9935099375239314, NSE Test = 0.8533532668083736\n",
            "q Level 0.04: NSE Train = 0.993395057429621, NSE Test = 0.846312890277206\n",
            "q Level 0.041: NSE Train = 0.9934507773459588, NSE Test = 0.8573884747551607\n",
            "q Level 0.042: NSE Train = 0.9932477346148519, NSE Test = 0.8514269436265308\n",
            "q Level 0.043000000000000003: NSE Train = 0.9939611171199858, NSE Test = 0.8480542265175994\n",
            "q Level 0.044: NSE Train = 0.9933576825643398, NSE Test = 0.8433045593830248\n",
            "q Level 0.045: NSE Train = 0.993779601782919, NSE Test = 0.84381167156755\n",
            "q Level 0.046: NSE Train = 0.9936122458417362, NSE Test = 0.8345703906202804\n",
            "q Level 0.047: NSE Train = 0.9898320194525673, NSE Test = 0.8421539322904378\n",
            "q Level 0.048: NSE Train = 0.9941522263226025, NSE Test = 0.8474463332698208\n",
            "q Level 0.049: NSE Train = 0.9940261849929795, NSE Test = 0.8446851069677404\n",
            "q Level 0.05: NSE Train = 0.9938672397503708, NSE Test = 0.8449514131494195\n",
            "q Level 0.051000000000000004: NSE Train = 0.9944041418816678, NSE Test = 0.8420720446671874\n",
            "q Level 0.052000000000000005: NSE Train = 0.9942034128790012, NSE Test = 0.8476387100211775\n",
            "q Level 0.053: NSE Train = 0.9934999985723428, NSE Test = 0.8521096290415098\n",
            "q Level 0.054: NSE Train = 0.993394348822572, NSE Test = 0.8447301091382439\n",
            "q Level 0.055: NSE Train = 0.9936337565594348, NSE Test = 0.8304559227253506\n",
            "q Level 0.056: NSE Train = 0.9933975651145087, NSE Test = 0.848864039455659\n",
            "q Level 0.057: NSE Train = 0.9901113397105962, NSE Test = 0.8366522228847413\n",
            "q Level 0.058: NSE Train = 0.9939076108161078, NSE Test = 0.8275443735878318\n",
            "q Level 0.059000000000000004: NSE Train = 0.9935368164105765, NSE Test = 0.8214253039974307\n",
            "q Level 0.06: NSE Train = 0.9934234208919915, NSE Test = 0.8425042609817142\n",
            "q Level 0.061: NSE Train = 0.9933698475288939, NSE Test = 0.8452053600767677\n",
            "q Level 0.062: NSE Train = 0.9938227497478128, NSE Test = 0.8517422839497045\n",
            "q Level 0.063: NSE Train = 0.9889989933134942, NSE Test = 0.8538578830411718\n",
            "q Level 0.064: NSE Train = 0.9934655554156561, NSE Test = 0.8325066374890259\n",
            "q Level 0.065: NSE Train = 0.9933026873540786, NSE Test = 0.8385351135445853\n",
            "q Level 0.066: NSE Train = 0.9938817805914747, NSE Test = 0.8276209090367709\n",
            "q Level 0.067: NSE Train = 0.9944156740260598, NSE Test = 0.8515391377603834\n",
            "q Level 0.068: NSE Train = 0.9937764873528419, NSE Test = 0.8357572769027866\n",
            "q Level 0.069: NSE Train = 0.9937073101898856, NSE Test = 0.8352512405077808\n",
            "q Level 0.07: NSE Train = 0.9934910280296328, NSE Test = 0.8401265373951939\n",
            "q Level 0.07100000000000001: NSE Train = 0.9936107759863586, NSE Test = 0.843247337357501\n",
            "q Level 0.07200000000000001: NSE Train = 0.9936346594304102, NSE Test = 0.8243401220671367\n",
            "q Level 0.073: NSE Train = 0.9932890799614629, NSE Test = 0.8355566685323199\n",
            "q Level 0.074: NSE Train = 0.993556344371715, NSE Test = 0.8330803281005744\n",
            "q Level 0.075: NSE Train = 0.9932857409110841, NSE Test = 0.8449956265278249\n",
            "q Level 0.076: NSE Train = 0.9936856394070559, NSE Test = 0.8188533852815141\n",
            "q Level 0.077: NSE Train = 0.993606954534601, NSE Test = 0.8217637618986725\n",
            "q Level 0.078: NSE Train = 0.9930347592952297, NSE Test = 0.8371544514835313\n",
            "q Level 0.079: NSE Train = 0.9929804137643615, NSE Test = 0.8443169558678789\n",
            "q Level 0.08: NSE Train = 0.9928516511795382, NSE Test = 0.8348085246823675\n",
            "q Level 0.081: NSE Train = 0.9940756564098926, NSE Test = 0.8281390057679111\n",
            "q Level 0.082: NSE Train = 0.9939611130264202, NSE Test = 0.8405747891420084\n",
            "q Level 0.083: NSE Train = 0.9931822974189439, NSE Test = 0.8316667789057778\n",
            "q Level 0.084: NSE Train = 0.9940210921270385, NSE Test = 0.8222746601874472\n",
            "q Level 0.085: NSE Train = 0.9930728992210677, NSE Test = 0.8333535579906178\n",
            "q Level 0.08600000000000001: NSE Train = 0.9931482323395572, NSE Test = 0.8367078458695058\n",
            "q Level 0.08700000000000001: NSE Train = 0.9936123271219728, NSE Test = 0.8279889489132096\n",
            "q Level 0.088: NSE Train = 0.9939896382217908, NSE Test = 0.8256850019528611\n",
            "q Level 0.089: NSE Train = 0.993046542433272, NSE Test = 0.827605524890041\n",
            "q Level 0.09: NSE Train = 0.9931896279230524, NSE Test = 0.841466297859024\n",
            "q Level 0.091: NSE Train = 0.9936307115805887, NSE Test = 0.8395781879402742\n",
            "q Level 0.092: NSE Train = 0.9933282003325111, NSE Test = 0.8314147468837241\n",
            "q Level 0.093: NSE Train = 0.9930322240469067, NSE Test = 0.8285906567076998\n",
            "q Level 0.094: NSE Train = 0.9934666052857533, NSE Test = 0.8468226661460969\n",
            "q Level 0.095: NSE Train = 0.9927264729730492, NSE Test = 0.8181315501101198\n",
            "q Level 0.096: NSE Train = 0.9937742021765755, NSE Test = 0.8258698281480956\n",
            "q Level 0.097: NSE Train = 0.9930749899415341, NSE Test = 0.8223774612024877\n",
            "q Level 0.098: NSE Train = 0.993044937496657, NSE Test = 0.8323730011720173\n",
            "q Level 0.099: NSE Train = 0.9923249080011797, NSE Test = 0.8370951453995947\n",
            "q Level 0.1: NSE Train = 0.9930404178467273, NSE Test = 0.8336493719546562\n",
            "q Level 0.101: NSE Train = 0.9931275998887271, NSE Test = 0.8259953032439209\n",
            "q Level 0.10200000000000001: NSE Train = 0.9932362531471323, NSE Test = 0.8366707213049547\n",
            "q Level 0.10300000000000001: NSE Train = 0.9932961431533601, NSE Test = 0.8427815817204558\n",
            "q Level 0.10400000000000001: NSE Train = 0.9922614696882226, NSE Test = 0.8285746085541972\n",
            "q Level 0.105: NSE Train = 0.992367417422757, NSE Test = 0.8386383345375702\n",
            "q Level 0.106: NSE Train = 0.9934806678408293, NSE Test = 0.831069640495139\n",
            "q Level 0.107: NSE Train = 0.9930598651690427, NSE Test = 0.8229589709119219\n",
            "q Level 0.108: NSE Train = 0.9928696556689829, NSE Test = 0.8276525196237502\n",
            "q Level 0.109: NSE Train = 0.9937350042898547, NSE Test = 0.8249265307468817\n",
            "q Level 0.11: NSE Train = 0.9930151646080786, NSE Test = 0.81808105339446\n",
            "q Level 0.111: NSE Train = 0.9935208797861592, NSE Test = 0.8220066956271128\n",
            "q Level 0.112: NSE Train = 0.9937303324494461, NSE Test = 0.823657771338671\n",
            "q Level 0.113: NSE Train = 0.98874515015565, NSE Test = 0.820592979549318\n",
            "q Level 0.114: NSE Train = 0.9930308505262438, NSE Test = 0.8268084761629425\n",
            "q Level 0.115: NSE Train = 0.9928384322752293, NSE Test = 0.813114417680744\n",
            "q Level 0.116: NSE Train = 0.9930900106291507, NSE Test = 0.8299720945443405\n",
            "q Level 0.117: NSE Train = 0.9932720372925584, NSE Test = 0.8383871903123188\n",
            "q Level 0.11800000000000001: NSE Train = 0.9936242957705846, NSE Test = 0.837637686439077\n",
            "q Level 0.11900000000000001: NSE Train = 0.9929860379495792, NSE Test = 0.8120610595346741\n",
            "q Level 0.12: NSE Train = 0.9927869919550607, NSE Test = 0.8115411139885921\n",
            "q Level 0.121: NSE Train = 0.9879986883293335, NSE Test = 0.8177294022048096\n",
            "q Level 0.122: NSE Train = 0.9927567428430372, NSE Test = 0.8239545699943264\n",
            "q Level 0.123: NSE Train = 0.9924248061752373, NSE Test = 0.8350171589957813\n",
            "q Level 0.124: NSE Train = 0.9933936915084232, NSE Test = 0.829937525830034\n",
            "q Level 0.125: NSE Train = 0.9928860481727149, NSE Test = 0.8382121078893247\n",
            "q Level 0.126: NSE Train = 0.9929281067122446, NSE Test = 0.8390358574289332\n",
            "q Level 0.127: NSE Train = 0.9932326945320163, NSE Test = 0.8391626833451024\n",
            "q Level 0.128: NSE Train = 0.993085124950983, NSE Test = 0.8389098134324552\n",
            "q Level 0.129: NSE Train = 0.9928782007816919, NSE Test = 0.8216986304130722\n",
            "q Level 0.13: NSE Train = 0.9929670360759711, NSE Test = 0.8254542938203574\n",
            "q Level 0.131: NSE Train = 0.9934598709494198, NSE Test = 0.8340099149050622\n",
            "q Level 0.132: NSE Train = 0.9920197363420247, NSE Test = 0.8249949318708122\n",
            "q Level 0.133: NSE Train = 0.9936500752411038, NSE Test = 0.8185744477093333\n",
            "q Level 0.134: NSE Train = 0.9934571561129031, NSE Test = 0.8320709873060098\n",
            "q Level 0.135: NSE Train = 0.9925255293698677, NSE Test = 0.8328274269028832\n",
            "q Level 0.136: NSE Train = 0.9925163856126179, NSE Test = 0.8302502257326394\n",
            "q Level 0.137: NSE Train = 0.9928162428690258, NSE Test = 0.8261072193757313\n",
            "q Level 0.138: NSE Train = 0.993212836390413, NSE Test = 0.8344741033338978\n",
            "q Level 0.139: NSE Train = 0.9931635582750062, NSE Test = 0.8294958268533854\n",
            "q Level 0.14: NSE Train = 0.9923857312776767, NSE Test = 0.8277536425755327\n",
            "q Level 0.14100000000000001: NSE Train = 0.9929269272267405, NSE Test = 0.8240002328160574\n",
            "q Level 0.14200000000000002: NSE Train = 0.9926729460479242, NSE Test = 0.814054901968758\n",
            "q Level 0.14300000000000002: NSE Train = 0.9924502522228735, NSE Test = 0.8209029914718542\n",
            "q Level 0.14400000000000002: NSE Train = 0.9928919141078618, NSE Test = 0.8231410071523697\n",
            "q Level 0.145: NSE Train = 0.9922597085897114, NSE Test = 0.8240241158569064\n",
            "q Level 0.146: NSE Train = 0.9920426773506505, NSE Test = 0.8230139244471859\n",
            "q Level 0.147: NSE Train = 0.9877726672370456, NSE Test = 0.8161898609252534\n",
            "q Level 0.148: NSE Train = 0.9919452461524441, NSE Test = 0.8211239644209016\n",
            "q Level 0.149: NSE Train = 0.9921437517580773, NSE Test = 0.8232173501318637\n",
            "q Level 0.15: NSE Train = 0.9924735551493977, NSE Test = 0.8334051663186628\n",
            "q Level 0.151: NSE Train = 0.992065852662464, NSE Test = 0.8154112949463408\n",
            "q Level 0.152: NSE Train = 0.9924488607963617, NSE Test = 0.8227591987211366\n",
            "q Level 0.153: NSE Train = 0.9921689201568672, NSE Test = 0.819141284188778\n",
            "q Level 0.154: NSE Train = 0.9921988935558472, NSE Test = 0.8252883464922982\n",
            "q Level 0.155: NSE Train = 0.9916763470647807, NSE Test = 0.8233102117768571\n",
            "q Level 0.156: NSE Train = 0.9928739591608088, NSE Test = 0.8244690831044283\n",
            "q Level 0.157: NSE Train = 0.9920313031542503, NSE Test = 0.8256931384327675\n",
            "q Level 0.158: NSE Train = 0.9916032238042323, NSE Test = 0.8340367352876177\n",
            "q Level 0.159: NSE Train = 0.992161552543581, NSE Test = 0.8254476054738363\n",
            "q Level 0.16: NSE Train = 0.9922840262604816, NSE Test = 0.8129743911864822\n",
            "q Level 0.161: NSE Train = 0.9921632041349472, NSE Test = 0.8237267657984032\n",
            "q Level 0.162: NSE Train = 0.9916950998203753, NSE Test = 0.8169605483511676\n",
            "q Level 0.163: NSE Train = 0.991824064044515, NSE Test = 0.815830972884727\n",
            "q Level 0.164: NSE Train = 0.992554696595189, NSE Test = 0.8328720779729158\n",
            "q Level 0.165: NSE Train = 0.9879519308144121, NSE Test = 0.8146873024663626\n",
            "q Level 0.166: NSE Train = 0.9924935326037693, NSE Test = 0.8197031556348509\n",
            "q Level 0.167: NSE Train = 0.9918857190289146, NSE Test = 0.824022277737087\n",
            "q Level 0.168: NSE Train = 0.9917191276279418, NSE Test = 0.825030235370892\n",
            "q Level 0.169: NSE Train = 0.9921620079753256, NSE Test = 0.8088199047822844\n",
            "q Level 0.17: NSE Train = 0.9916084779745734, NSE Test = 0.8180423122665126\n",
            "q Level 0.171: NSE Train = 0.9914746893480656, NSE Test = 0.8190933514760945\n",
            "q Level 0.17200000000000001: NSE Train = 0.9917499004271043, NSE Test = 0.8201839126461075\n",
            "q Level 0.17300000000000001: NSE Train = 0.991971205194728, NSE Test = 0.8301271673746755\n",
            "q Level 0.17400000000000002: NSE Train = 0.9924190751889742, NSE Test = 0.8137215841402988\n",
            "q Level 0.17500000000000002: NSE Train = 0.9916306030619457, NSE Test = 0.8224143429748134\n",
            "q Level 0.176: NSE Train = 0.9914809803017801, NSE Test = 0.8300619229546579\n",
            "q Level 0.177: NSE Train = 0.991973888722188, NSE Test = 0.8329015245736094\n",
            "q Level 0.178: NSE Train = 0.9914067179772723, NSE Test = 0.8323544781130788\n",
            "q Level 0.179: NSE Train = 0.9914422615967752, NSE Test = 0.8169414799981378\n",
            "q Level 0.18: NSE Train = 0.9917640229079389, NSE Test = 0.8096180037431019\n",
            "q Level 0.181: NSE Train = 0.9914340100704676, NSE Test = 0.8344482652705872\n",
            "q Level 0.182: NSE Train = 0.9917052241544955, NSE Test = 0.8148968737983654\n",
            "q Level 0.183: NSE Train = 0.9916578636821527, NSE Test = 0.8266688885036391\n",
            "q Level 0.184: NSE Train = 0.9913297584689185, NSE Test = 0.8269197880122026\n",
            "q Level 0.185: NSE Train = 0.9919738859196264, NSE Test = 0.8210332255723123\n",
            "q Level 0.186: NSE Train = 0.9926223971707123, NSE Test = 0.8287495854167246\n",
            "q Level 0.187: NSE Train = 0.9910421011453765, NSE Test = 0.8252435048038859\n",
            "q Level 0.188: NSE Train = 0.9910181898431931, NSE Test = 0.8278675450795385\n",
            "q Level 0.189: NSE Train = 0.991203122908884, NSE Test = 0.8263304652549189\n",
            "q Level 0.19: NSE Train = 0.9912919450499363, NSE Test = 0.8297734505111899\n",
            "q Level 0.191: NSE Train = 0.9919079893514722, NSE Test = 0.842522602183726\n",
            "q Level 0.192: NSE Train = 0.9910609711884819, NSE Test = 0.8319001969435299\n",
            "q Level 0.193: NSE Train = 0.9920662287757775, NSE Test = 0.8290287816590646\n",
            "q Level 0.194: NSE Train = 0.9913323229919592, NSE Test = 0.8267856164233826\n",
            "q Level 0.195: NSE Train = 0.9912130558399869, NSE Test = 0.8302195229289503\n",
            "q Level 0.196: NSE Train = 0.9914149701508927, NSE Test = 0.8325416692675665\n",
            "q Level 0.197: NSE Train = 0.9917038818867523, NSE Test = 0.8263467830919065\n",
            "q Level 0.198: NSE Train = 0.9871890152954919, NSE Test = 0.8312119839931675\n",
            "q Level 0.199: NSE Train = 0.9907531392678857, NSE Test = 0.828489165027179\n",
            "q Level 0.2: NSE Train = 0.991479807513098, NSE Test = 0.8330950093679088\n",
            "q Level 0.201: NSE Train = 0.9917865261358446, NSE Test = 0.8324117189966463\n",
            "q Level 0.202: NSE Train = 0.9876817959368462, NSE Test = 0.8362543664593508\n",
            "q Level 0.203: NSE Train = 0.9924393794178146, NSE Test = 0.8438824506519556\n",
            "q Level 0.20400000000000001: NSE Train = 0.991243484101333, NSE Test = 0.836713936443536\n",
            "q Level 0.20500000000000002: NSE Train = 0.9917977477705556, NSE Test = 0.8320420780671269\n",
            "q Level 0.20600000000000002: NSE Train = 0.9870768523113748, NSE Test = 0.8158351628919434\n",
            "q Level 0.20700000000000002: NSE Train = 0.9921048970107137, NSE Test = 0.8335962159821584\n",
            "q Level 0.20800000000000002: NSE Train = 0.992401014694309, NSE Test = 0.839244917861758\n",
            "q Level 0.209: NSE Train = 0.9909151534270955, NSE Test = 0.8244819714200577\n",
            "q Level 0.21: NSE Train = 0.9916535046386178, NSE Test = 0.8284985393552182\n",
            "q Level 0.211: NSE Train = 0.9922012755925308, NSE Test = 0.8152062593648299\n",
            "q Level 0.212: NSE Train = 0.9916561240145491, NSE Test = 0.8164182516127009\n",
            "q Level 0.213: NSE Train = 0.9917889915104667, NSE Test = 0.8312548020299074\n",
            "q Level 0.214: NSE Train = 0.9913274965485676, NSE Test = 0.8264680756725251\n",
            "q Level 0.215: NSE Train = 0.9915335754246447, NSE Test = 0.8351870426553949\n",
            "q Level 0.216: NSE Train = 0.9919083626448457, NSE Test = 0.8385047873857754\n",
            "q Level 0.217: NSE Train = 0.9917482933587163, NSE Test = 0.8275659155290922\n",
            "q Level 0.218: NSE Train = 0.9916332054167524, NSE Test = 0.8265202455828081\n",
            "q Level 0.219: NSE Train = 0.9916525967119928, NSE Test = 0.8300767272222219\n",
            "q Level 0.22: NSE Train = 0.9911075354637786, NSE Test = 0.8252618203579093\n",
            "q Level 0.221: NSE Train = 0.9924629503005753, NSE Test = 0.8423837665557173\n",
            "q Level 0.222: NSE Train = 0.991921350749302, NSE Test = 0.8257708548404616\n",
            "q Level 0.223: NSE Train = 0.9911827989226873, NSE Test = 0.8316790710719397\n",
            "q Level 0.224: NSE Train = 0.991728505313044, NSE Test = 0.8326714672833131\n",
            "q Level 0.225: NSE Train = 0.9915157457875019, NSE Test = 0.828294911056443\n",
            "q Level 0.226: NSE Train = 0.9925385582384484, NSE Test = 0.8446584461289097\n",
            "q Level 0.227: NSE Train = 0.9919646957553702, NSE Test = 0.8380713623006578\n",
            "q Level 0.228: NSE Train = 0.9910908488056304, NSE Test = 0.8270048532938303\n",
            "q Level 0.229: NSE Train = 0.9915220073904906, NSE Test = 0.8266791413101092\n",
            "q Level 0.23: NSE Train = 0.9912844864805785, NSE Test = 0.8318082772792827\n",
            "q Level 0.231: NSE Train = 0.9911789225540772, NSE Test = 0.8302380597463929\n",
            "q Level 0.232: NSE Train = 0.9915994262061781, NSE Test = 0.8209519524896313\n",
            "q Level 0.233: NSE Train = 0.9911109720736906, NSE Test = 0.8193429430089763\n",
            "q Level 0.234: NSE Train = 0.9923367715776835, NSE Test = 0.8400086704578066\n",
            "q Level 0.23500000000000001: NSE Train = 0.9920504561135067, NSE Test = 0.8191305687247954\n",
            "q Level 0.23600000000000002: NSE Train = 0.9915416330648996, NSE Test = 0.8323823893152315\n",
            "q Level 0.23700000000000002: NSE Train = 0.9917953731088787, NSE Test = 0.8213686344607509\n",
            "q Level 0.23800000000000002: NSE Train = 0.9913291249051973, NSE Test = 0.8406831147024312\n",
            "q Level 0.23900000000000002: NSE Train = 0.9911430212509559, NSE Test = 0.8370936978366115\n",
            "q Level 0.24: NSE Train = 0.9916045108965335, NSE Test = 0.8184349204349268\n",
            "q Level 0.241: NSE Train = 0.991631601616197, NSE Test = 0.8252533969781006\n",
            "q Level 0.242: NSE Train = 0.9916868791477786, NSE Test = 0.8296460816052122\n",
            "q Level 0.243: NSE Train = 0.9914776735172535, NSE Test = 0.8311949079199703\n",
            "q Level 0.244: NSE Train = 0.9919906636095611, NSE Test = 0.8349617934512911\n",
            "q Level 0.245: NSE Train = 0.9915466224555887, NSE Test = 0.8272495835364386\n",
            "q Level 0.246: NSE Train = 0.9917096299286008, NSE Test = 0.8282912294120687\n",
            "q Level 0.247: NSE Train = 0.9913741678917223, NSE Test = 0.8307385971628374\n",
            "q Level 0.248: NSE Train = 0.9911328868022262, NSE Test = 0.833264169582264\n",
            "q Level 0.249: NSE Train = 0.9920732172318526, NSE Test = 0.8287228487511952\n",
            "q Level 0.25: NSE Train = 0.9917622020493971, NSE Test = 0.8162355960216952\n",
            "The best model is saved under the name: 'best_model.pkl'.\n"
          ]
        }
      ],
      "source": [
        "# Define quantile levels to iterate over\n",
        "quantile_levels = np.arange(0, 0.251, 0.001)\n",
        "\n",
        "nse_values = []  # List to store Nash-Sutcliffe Efficiency (NSE) values\n",
        "best_model = None  # Variable to store the best model found during optimization\n",
        "\n",
        "for q_level in quantile_levels:\n",
        "    # Prepare training and testing data for the current quantile level\n",
        "    data_train = prepare_data(mean_trajectory, quantile_results[q_level]['diff'], var_trajectory,\n",
        "                              quantile_results[q_level]['min_trajectory'], quantile_results[q_level]['max_trajectory'],\n",
        "                              plui, etp, discharge)\n",
        "\n",
        "    data_test = prepare_data(mean_trajectory1, quantile_results1[q_level]['diff1'], var_trajectory1,\n",
        "                              quantile_results1[q_level]['min_trajectory1'], quantile_results1[q_level]['max_trajectory1'],\n",
        "                              plui1, etp1, discharge1)\n",
        "\n",
        "    # Split features and target variables for training and testing data\n",
        "    X_train = data_train[['mean_HyMoLAP', 'diff_HyMoLAP', 'min_HyMoLAP', 'max_HyMoLAP',\n",
        "                           'mean_HyMoLAP_t1', 'diff_HyMoLAP_t1', 'min_HyMoLAP_t1', 'max_HyMoLAP_t1',\n",
        "                           'mean_HyMoLAP_t2', 'diff_HyMoLAP_t2', 'min_HyMoLAP_t2', 'max_HyMoLAP_t2']]\n",
        "    y_train = data_train['target']\n",
        "\n",
        "    X_test = data_test[['mean_HyMoLAP', 'diff_HyMoLAP', 'min_HyMoLAP', 'max_HyMoLAP',\n",
        "                           'mean_HyMoLAP_t1', 'diff_HyMoLAP_t1', 'min_HyMoLAP_t1', 'max_HyMoLAP_t1',\n",
        "                           'mean_HyMoLAP_t2', 'diff_HyMoLAP_t2', 'min_HyMoLAP_t2', 'max_HyMoLAP_t2']]\n",
        "    y_test = data_test['target']\n",
        "\n",
        "    # Define a wavelet transform function to preprocess data\n",
        "    def wavelet_transform(data, wavelet='coif1', level=6):\n",
        "        # Perform wavelet decomposition\n",
        "        coeffs = pywt.wavedec(data, wavelet, level=level)\n",
        "        approx_coeffs = coeffs[0]  # Extract approximation coefficients\n",
        "        # Reconstruct data using only approximation coefficients\n",
        "        transformed_data = pywt.waverec([approx_coeffs] + [None] * (len(coeffs) - 1), wavelet)\n",
        "        return transformed_data[:len(data)]\n",
        "\n",
        "    # Define wavelet types and decomposition levels\n",
        "    # We tested various wavelet levels and wavelet types, as highlighted in the paper, before selecting the ones retained here.\n",
        "    wavelet_levels = [4]\n",
        "    wavelet_types = ['coif1']\n",
        "\n",
        "    # Dictionary to store NSE results for each wavelet and level combination\n",
        "    nse_results = {}\n",
        "\n",
        "    for wavelet in wavelet_types:\n",
        "        for level in wavelet_levels:\n",
        "            # Apply wavelet transform to training and testing data\n",
        "            X_train_wavelet = X_train.apply(lambda x: wavelet_transform(x, wavelet=wavelet, level=level), axis=0)\n",
        "            X_test_wavelet = X_test.apply(lambda x: wavelet_transform(x, wavelet=wavelet, level=level), axis=0)\n",
        "\n",
        "            # Define a pipeline with data scaling and XGBoost regressor\n",
        "            xgb_pipeline = Pipeline([\n",
        "                ('scaler', StandardScaler()),  # Standardize features\n",
        "                ('xgb', XGBRegressor(random_state=42, subsample=0.6))  # XGBoost model\n",
        "            ])\n",
        "\n",
        "            # Define a parameter grid for hyperparameter tuning\n",
        "            param_grid = {\n",
        "                'xgb__n_estimators': [50, 100, 150],  # Number of trees\n",
        "                'xgb__max_depth': [2, 3, 5],  # Tree depth\n",
        "                'xgb__learning_rate': [0.01, 0.05],  # Learning rate\n",
        "                'xgb__colsample_bytree': [0.5, 0.7, 0.9],  # Subsampling columns\n",
        "                'xgb__reg_alpha': [0.1, 0.3, 0.5],  # L1 regularization\n",
        "                'xgb__reg_lambda': [0.1, 0.3, 0.5],  # L2 regularization\n",
        "            }\n",
        "\n",
        "            # Use KFold cross-validation for hyperparameter tuning\n",
        "            cv = KFold(n_splits=5, shuffle=True, random_state=42)\n",
        "\n",
        "            # Randomized search for hyperparameter optimization\n",
        "            grid_search = RandomizedSearchCV(xgb_pipeline, param_grid, n_iter=50, cv=cv, scoring='neg_mean_squared_error', n_jobs=-1)\n",
        "\n",
        "            # Fit the model on training data\n",
        "            grid_search.fit(X_train_wavelet, y_train)\n",
        "\n",
        "            # Retrieve the best model from grid search\n",
        "            best_xgb = grid_search.best_estimator_\n",
        "\n",
        "            # Predict on training and testing data\n",
        "            y_pred_train = best_xgb.predict(X_train_wavelet)\n",
        "            y_pred_test = best_xgb.predict(X_test_wavelet)\n",
        "\n",
        "            # Calculate NSE for training and testing data\n",
        "            nse_train = nash_sutcliffe_efficiency(discharge[3:1461], y_pred_train)\n",
        "            nse_test = nash_sutcliffe_efficiency(y_test, y_pred_test)\n",
        "\n",
        "            # Append test NSE to the list for overall evaluation\n",
        "            nse_values.append(nse_test)\n",
        "\n",
        "            # Store NSE results for the current wavelet and level\n",
        "            nse_results[(wavelet, level)] = (nse_train, nse_test)\n",
        "            print(f\"q Level {q_level}: NSE Train = {nse_train}, NSE Test = {nse_test}\")\n",
        "\n",
        "            # Save the best model based on test NSE\n",
        "            if best_model is None or nse_test > best_nse_test:\n",
        "                best_model = best_xgb\n",
        "                best_nse_test = nse_test\n",
        "\n",
        "                # Store best parameters for reference\n",
        "                best_params = grid_search.best_params_\n",
        "\n",
        "# Save the best model and its parameters to files\n",
        "joblib.dump(best_model, 'best_model.pkl')\n",
        "joblib.dump(best_params, 'best_params.pkl')\n",
        "print(\"The best model is saved under the name: 'best_model.pkl'.\")\n",
        "\n",
        "# Load the saved model for future predictions\n",
        "loaded_model = joblib.load('best_model.pkl')\n"
      ]
    },
    {
      "cell_type": "code",
      "execution_count": null,
      "metadata": {
        "id": "-5Mq0lAA4zhp",
        "colab": {
          "base_uri": "https://localhost:8080/",
          "height": 307
        },
        "outputId": "d7f1aa72-7bb1-437e-ea52-d2fe2b9f446b"
      },
      "outputs": [
        {
          "output_type": "display_data",
          "data": {
            "text/plain": [
              "<IPython.core.display.Javascript object>"
            ],
            "application/javascript": [
              "\n",
              "    async function download(id, filename, size) {\n",
              "      if (!google.colab.kernel.accessAllowed) {\n",
              "        return;\n",
              "      }\n",
              "      const div = document.createElement('div');\n",
              "      const label = document.createElement('label');\n",
              "      label.textContent = `Downloading \"${filename}\": `;\n",
              "      div.appendChild(label);\n",
              "      const progress = document.createElement('progress');\n",
              "      progress.max = size;\n",
              "      div.appendChild(progress);\n",
              "      document.body.appendChild(div);\n",
              "\n",
              "      const buffers = [];\n",
              "      let downloaded = 0;\n",
              "\n",
              "      const channel = await google.colab.kernel.comms.open(id);\n",
              "      // Send a message to notify the kernel that we're ready.\n",
              "      channel.send({})\n",
              "\n",
              "      for await (const message of channel.messages) {\n",
              "        // Send a message to notify the kernel that we're ready.\n",
              "        channel.send({})\n",
              "        if (message.buffers) {\n",
              "          for (const buffer of message.buffers) {\n",
              "            buffers.push(buffer);\n",
              "            downloaded += buffer.byteLength;\n",
              "            progress.value = downloaded;\n",
              "          }\n",
              "        }\n",
              "      }\n",
              "      const blob = new Blob(buffers, {type: 'application/binary'});\n",
              "      const a = document.createElement('a');\n",
              "      a.href = window.URL.createObjectURL(blob);\n",
              "      a.download = filename;\n",
              "      div.appendChild(a);\n",
              "      a.click();\n",
              "      div.remove();\n",
              "    }\n",
              "  "
            ]
          },
          "metadata": {}
        },
        {
          "output_type": "display_data",
          "data": {
            "text/plain": [
              "<IPython.core.display.Javascript object>"
            ],
            "application/javascript": [
              "download(\"download_fd6f8d75-43c3-4b24-866b-9cef1765adaf\", \"range.jpeg\", 94368)"
            ]
          },
          "metadata": {}
        },
        {
          "output_type": "display_data",
          "data": {
            "text/plain": [
              "<Figure size 600x300 with 1 Axes>"
            ],
            "image/png": "[encoded data removed]"
          },
          "metadata": {}
        }
      ],
      "source": [
        "# Find the index of the maximum NSE value\n",
        "max_idx = np.argmax(nse_values)  # Index of the maximum NSE value\n",
        "max_value = nse_values[max_idx]  # Maximum NSE value\n",
        "max_quantile = quantile_levels[max_idx]  # Corresponding quantile level\n",
        "\n",
        "# Plot NSE results with an arrow and text indicating the maximum NSE value\n",
        "plt.figure(figsize=(6, 3))  # Set the figure size\n",
        "plt.plot(quantile_levels, nse_values, linestyle='-', linewidth=1)  # Plot NSE values with a thin line\n",
        "plt.xlabel('Quantile Level (qL)')  # Label for the x-axis\n",
        "plt.ylabel('Nash-Sutcliffe Efficiency (NSE)')  # Label for the y-axis\n",
        "# plt.grid()  # (Optional) Uncomment to display the grid\n",
        "plt.xticks(np.arange(0, 0.5, 0.05))  # Adjust x-axis ticks as needed\n",
        "plt.ylim(0.7, 1)  # Set the y-axis limits\n",
        "plt.xlim(-0.01, 0.27)  # Limit the x-axis to the range [0, 0.27]\n",
        "\n",
        "# Add an arrow and text indicating the maximum NSE value and corresponding quantile level\n",
        "plt.annotate(f'(qL={max_quantile:.3f}, NSE={max_value:.3f})',  # Annotation text\n",
        "             xy=(max_quantile, max_value),  # Point to annotate\n",
        "             xytext=(max_quantile, max_value + 0.05),  # Position of the text\n",
        "             arrowprops=dict(facecolor='red', arrowstyle=\"->\"),  # Arrow style and color\n",
        "             fontsize=10, color='red')  # Text font size and color\n",
        "\n",
        "# Use tight_layout to prevent overlapping of labels and content\n",
        "plt.tight_layout()\n",
        "\n",
        "# Save the plot as a .jpeg file\n",
        "plt.savefig(\"range.jpeg\", format='jpeg', dpi=300)\n",
        "\n",
        "# Download the saved file\n",
        "files.download(\"range.jpeg\")\n",
        "\n",
        "# Display the plot\n",
        "plt.show()\n"
      ]
    },
    {
      "cell_type": "code",
      "source": [
        "# Use the saved model\n",
        "# Prepare training and testing data for the selected quantile level\n",
        "q_level = 0.027  # Manually set the best quantile level\n",
        "data_train = prepare_data(mean_trajectory, quantile_results[q_level]['diff'], var_trajectory,\n",
        "                          quantile_results[q_level]['min_trajectory'], quantile_results[q_level]['max_trajectory'],\n",
        "                          plui, etp, discharge)\n",
        "\n",
        "data_test = prepare_data(mean_trajectory1, quantile_results1[q_level]['diff1'], var_trajectory1,\n",
        "                         quantile_results1[q_level]['min_trajectory1'], quantile_results1[q_level]['max_trajectory1'],\n",
        "                         plui1, etp1, discharge1)\n",
        "\n",
        "# Split features and target variables for training and testing\n",
        "X_train = data_train[['mean_HyMoLAP', 'diff_HyMoLAP', 'min_HyMoLAP', 'max_HyMoLAP',\n",
        "                      'mean_HyMoLAP_t1', 'diff_HyMoLAP_t1', 'min_HyMoLAP_t1', 'max_HyMoLAP_t1',\n",
        "                      'mean_HyMoLAP_t2', 'diff_HyMoLAP_t2', 'min_HyMoLAP_t2', 'max_HyMoLAP_t2']]\n",
        "y_train = data_train['target']\n",
        "\n",
        "X_test = data_test[['mean_HyMoLAP', 'diff_HyMoLAP', 'min_HyMoLAP', 'max_HyMoLAP',\n",
        "                    'mean_HyMoLAP_t1', 'diff_HyMoLAP_t1', 'min_HyMoLAP_t1', 'max_HyMoLAP_t1',\n",
        "                    'mean_HyMoLAP_t2', 'diff_HyMoLAP_t2', 'min_HyMoLAP_t2', 'max_HyMoLAP_t2']]\n",
        "y_test = data_test['target']\n",
        "\n",
        "# Wavelet transform function for preprocessing\n",
        "def wavelet_transform(data, wavelet='coif1', level=6):\n",
        "    # Perform wavelet decomposition\n",
        "    coeffs = pywt.wavedec(data, wavelet, level=level)\n",
        "    approx_coeffs = coeffs[0]  # Use approximation coefficients\n",
        "    # Reconstruct data using only the approximation coefficients\n",
        "    transformed_data = pywt.waverec([approx_coeffs] + [None] * (len(coeffs) - 1), wavelet)\n",
        "    return transformed_data[:len(data)]  # Ensure the output matches input length\n",
        "\n",
        "# List of wavelet levels and types to apply\n",
        "wavelet_levels = [4]  # Wavelet decomposition levels to test\n",
        "wavelet_types = ['coif1']  # Types of wavelets to apply\n",
        "\n",
        "# Apply wavelet transformation to training and testing data\n",
        "for wavelet in wavelet_types:\n",
        "    for level in wavelet_levels:\n",
        "        # Apply wavelet transform on X_train and X_test\n",
        "        X_train_wavelet = X_train.apply(lambda x: wavelet_transform(x, wavelet=wavelet, level=level), axis=0)\n",
        "        X_test_wavelet = X_test.apply(lambda x: wavelet_transform(x, wavelet=wavelet, level=level), axis=0)\n",
        "\n",
        "# Use the loaded model to make predictions on training and testing data\n",
        "y_pred1 = loaded_model.predict(X_train_wavelet)  # Predictions for training data\n",
        "y_pred_test = loaded_model.predict(X_test_wavelet)  # Predictions for testing data\n",
        "\n",
        "# Calculate Nash-Sutcliffe Efficiency (NSE) for both datasets\n",
        "nse_train = nash_sutcliffe_efficiency(y_train, y_pred1)  # NSE for training data\n",
        "nse_test = nash_sutcliffe_efficiency(y_test, y_pred_test)  # NSE for testing data\n",
        "print(f\"q Level {q_level}: NSE Train = {nse_train}, NSE Test = {nse_test}\")\n",
        "\n",
        "# Load the saved best parameters (optional)\n",
        "best_params = joblib.load('best_params.pkl')  # Load the best parameters\n",
        "print(\"Best parameters from the loaded model:\", best_params)\n"
      ],
      "metadata": {
        "id": "lSuemqhg_gbW",
        "colab": {
          "base_uri": "https://localhost:8080/"
        },
        "outputId": "d9cc735a-4954-4dfb-893b-23f863d3f4d9"
      },
      "execution_count": null,
      "outputs": [
        {
          "output_type": "stream",
          "name": "stdout",
          "text": [
            "q Level 0.027: NSE Train = 0.9941547150149856, NSE Test = 0.8805385933288705\n",
            "Meilleurs paramètres du modèle chargé : {'xgb__reg_lambda': 0.1, 'xgb__reg_alpha': 0.3, 'xgb__n_estimators': 150, 'xgb__max_depth': 5, 'xgb__learning_rate': 0.05, 'xgb__colsample_bytree': 0.7}\n"
          ]
        }
      ]
    },
    {
      "cell_type": "code",
      "execution_count": null,
      "metadata": {
        "id": "xf6QGZTdcg4Q",
        "colab": {
          "base_uri": "https://localhost:8080/",
          "height": 314
        },
        "outputId": "29ed3f86-063d-4beb-83b1-a1938f74ff7f"
      },
      "outputs": [
        {
          "output_type": "display_data",
          "data": {
            "text/plain": [
              "<Figure size 550x250 with 2 Axes>"
            ],
            "image/png": "[encoded data removed]"
          },
          "metadata": {}
        }
      ],
      "source": [
        "# Create a range of dates from '01-01-2000' to '12-31-2005'\n",
        "time1 = np.datetime64('2000-01-04')  # Start date\n",
        "time2 = np.datetime64('2003-12-31')  # End date\n",
        "time = np.arange(time1, time2 + np.timedelta64(1, 'D'), dtype='datetime64[D]')  # Daily date range\n",
        "\n",
        "# Create a figure and axes with a reduced figure size\n",
        "fig, ax1 = plt.subplots(figsize=(5.5, 2.5))\n",
        "\n",
        "# Plot a histogram for precipitation (plui) on ax1\n",
        "ax1.bar(time, plui[3:1461], color='black')  # Precipitation data as black bars\n",
        "\n",
        "# Format the x-axis labels\n",
        "ax1.xaxis.set_major_formatter(plt.matplotlib.dates.DateFormatter('%Y-%m'))  # Display x-axis in Year-Month format\n",
        "plt.xticks(rotation=45)  # Rotate x-axis labels for readability\n",
        "\n",
        "ax1.set_xlabel('Date [day]')  # Label for the x-axis\n",
        "\n",
        "# Set y-axis parameters for precipitation\n",
        "ax1.set_ylabel('Precipitation [mm]', color='black')  # Label for the left y-axis\n",
        "ax1.tick_params(axis='y', labelcolor='black')  # Set tick color for the precipitation axis\n",
        "ax1.set_ylim(0, 100)  # Set y-axis range for precipitation\n",
        "ax1.set_yticks(np.arange(0, 101, 20))  # Set y-axis ticks at intervals of 20 mm\n",
        "\n",
        "# Invert the y-axis and place ticks on the left side for precipitation\n",
        "ax1.invert_yaxis()\n",
        "ax1.yaxis.set_label_position(\"left\")\n",
        "\n",
        "# Create a second y-axis for discharge data\n",
        "ax2 = ax1.twinx()  # Share the same x-axis\n",
        "ax2.plot(time, discharge[3:1461], 'b', label='Qobs')  # Plot observed discharge in blue\n",
        "\n",
        "# Optional: Plot the minimum, maximum, and mean trajectories as a confidence region\n",
        "# ax2.fill_between(time, min_trajectory, max_trajectory, color='gray', alpha=0.3, label='95% CrI')\n",
        "\n",
        "# Plot the predicted mean trajectory\n",
        "ax2.plot(time, y_pred1, 'r', label='Qsim')  # Plot simulated discharge in red\n",
        "\n",
        "# Set y-axis parameters for daily discharge\n",
        "ax2.set_ylabel('Discharge [m^3/s]', color='blue')  # Label for the right y-axis\n",
        "ax2.tick_params(axis='y', labelcolor='blue')  # Set tick color for the discharge axis\n",
        "ax2.set_ylim(0, 2000)  # Set y-axis range for discharge\n",
        "ax2.set_yticks(np.arange(0, 2000, 400))  # Set y-axis ticks at intervals of 400 m³/s\n",
        "\n",
        "# Add a legend inside the plot area\n",
        "fig.legend(loc='upper right', bbox_to_anchor=(0.8, 0.71))  # Place legend at the upper right\n",
        "\n",
        "\n",
        "# Display the plot\n",
        "plt.show()\n"
      ]
    },
    {
      "cell_type": "markdown",
      "metadata": {
        "id": "JGgHmSOd1HY0"
      },
      "source": [
        "Plots for validation"
      ]
    },
    {
      "cell_type": "code",
      "source": [
        "import matplotlib.dates as mdates\n",
        "\n",
        "# Generate the date range\n",
        "time1 = np.datetime64('2004-01-04')  # Start date\n",
        "time2 = np.datetime64('2005-12-31')  # End date\n",
        "time = np.arange(time1, time2 + np.timedelta64(1, 'D'), dtype='datetime64[D]')\n",
        "\n",
        "# Create a figure and axes with specified dimensions\n",
        "fig, ax1 = plt.subplots(figsize=(5., 2.5))\n",
        "\n",
        "# Plot precipitation (plui1) as bars on ax1\n",
        "ax1.bar(time, plui1[3:], color='black')\n",
        "\n",
        "# Format the x-axis to show only the start of each year\n",
        "ax1.xaxis.set_major_locator(mdates.YearLocator())\n",
        "ax1.xaxis.set_major_formatter(mdates.DateFormatter('%Y'))\n",
        "\n",
        "# Align x-axis labels horizontally (no rotation)\n",
        "plt.xticks(rotation=0)\n",
        "\n",
        "# Label for the x-axis\n",
        "ax1.set_xlabel('Date [day]')\n",
        "\n",
        "# Configure y-axis for precipitation\n",
        "ax1.set_ylabel('Precipitation [mm]', color='black')\n",
        "ax1.tick_params(axis='y', labelcolor='black')\n",
        "ax1.set_ylim(0, 100)\n",
        "ax1.set_yticks(np.arange(0, 101, 20))\n",
        "\n",
        "# Invert the y-axis for precipitation\n",
        "ax1.invert_yaxis()\n",
        "ax1.yaxis.set_label_position(\"left\")  # Position the y-axis label on the left\n",
        "\n",
        "# Create a second y-axis for discharge (Qobs)\n",
        "ax2 = ax1.twinx()\n",
        "ax2.plot(time, discharge1[3:], 'b', label='Qobs')\n",
        "\n",
        "# Plot the mean trajectories (Qsim)\n",
        "ax2.plot(time, y_pred_test, 'green', label='Qsim')\n",
        "\n",
        "# Configure y-axis for discharge\n",
        "ax2.set_ylabel('Discharge [m³/s]', color='blue')  # Label for discharge axis\n",
        "ax2.tick_params(axis='y', labelcolor='blue')  # Set tick color for the discharge axis\n",
        "ax2.set_ylim(-100, 1600)  # Set y-axis range for discharge\n",
        "ax2.set_yticks(np.arange(0, 1600, 400))  # Set y-axis ticks at intervals of 400 m³/s\n",
        "\n",
        "# Add a legend inside the plot\n",
        "fig.legend(loc='upper left', bbox_to_anchor=(0.14, 0.75))\n",
        "\n",
        "# Use tight_layout to prevent label overlap\n",
        "plt.tight_layout()\n",
        "\n",
        "# Save the plot as a .jpeg file\n",
        "plt.savefig(\"sto_hyb_wxgb.jpeg\", format='jpeg', dpi=500)\n",
        "\n",
        "# Optional: Download the saved file\n",
        "# files.download(\"sto_hyb_wxgb.jpeg\")\n",
        "\n",
        "# Display the plot\n",
        "plt.show()\n"
      ],
      "metadata": {
        "id": "lKG3POzFUA_4",
        "colab": {
          "base_uri": "https://localhost:8080/",
          "height": 257
        },
        "outputId": "7810ede2-77e4-4106-912d-1e518341108a"
      },
      "execution_count": null,
      "outputs": [
        {
          "output_type": "display_data",
          "data": {
            "text/plain": [
              "<Figure size 500x250 with 2 Axes>"
            ],
            "image/png": "[encoded data removed]"
          },
          "metadata": {}
        }
      ]
    },
    {
      "cell_type": "code",
      "source": [
        "# Create a DataFrame to save the mean trajectory into an Excel file\n",
        "df_mean_trajectory = pd.DataFrame({'Mean_Trajectory': y_pred_test})  # DataFrame with predicted mean trajectory\n",
        "\n",
        "# Save the DataFrame to an Excel file\n",
        "df_mean_trajectory.to_excel('Sto_wxgboost.xlsx', index=False)  # Save without including the index\n",
        "\n",
        "# Download the file in Google Colab\n",
        "files.download('Sto_wxgboost.xlsx')  # Prompt to download the saved Excel file"
      ],
      "metadata": {
        "id": "tODHxFT7SF0N"
      },
      "execution_count": null,
      "outputs": []
    },
    {
      "cell_type": "code",
      "source": [
        "# Scatter plot of observed (Qobs) vs simulated (Qsim) values\n",
        "plt.figure(figsize=(5, 2.5))  # Set the figure size\n",
        "plt.scatter(discharge1[3:], y_pred_test, color='green', marker='.')  # Scatter plot with observed and simulated values\n",
        "plt.xlabel('Qobs [m³/s]')  # Label for the x-axis (observed discharge)\n",
        "plt.ylabel('Qsim [m³/s]')  # Label for the y-axis (simulated discharge)\n",
        "\n",
        "# Adjust the x and y-axis limits based on the data range\n",
        "plt.xlim(0, 1000)  # Set x-axis limits from 0 to 1000\n",
        "plt.ylim(0, 1000)  # Set y-axis limits from 0 to 1000\n",
        "\n",
        "# Add a reference line (y = x) to indicate perfect fit\n",
        "plt.plot([0, 1000], [0, 1000], color='black', linestyle='--')  # Dashed black line for reference\n",
        "\n",
        "# Use tight_layout to avoid label clipping issues\n",
        "plt.tight_layout()\n",
        "\n",
        "# Save the plot as a .jpeg file before displaying it\n",
        "plt.savefig(\"sca_sto_hyb_wxgb.jpeg\", format='jpeg', dpi=500)\n",
        "\n",
        "# Optional: Download the saved file to your laptop\n",
        "# files.download(\"sca_sto_hyb_wxgb.jpeg\")\n",
        "\n",
        "# Display the plot\n",
        "plt.show()\n"
      ],
      "metadata": {
        "id": "w3B2EzYGXA4o",
        "colab": {
          "base_uri": "https://localhost:8080/",
          "height": 257
        },
        "outputId": "d1841aa8-d6f8-4046-bf31-72464c4d4c33"
      },
      "execution_count": null,
      "outputs": [
        {
          "output_type": "display_data",
          "data": {
            "text/plain": [
              "<Figure size 500x250 with 1 Axes>"
            ],
            "image/png": "[encoded data removed]"
          },
          "metadata": {}
        }
      ]
    },
    {
      "cell_type": "code",
      "source": [
        "!python --version\n"
      ],
      "metadata": {
        "colab": {
          "base_uri": "https://localhost:8080/"
        },
        "id": "C7HRUl4I54rb",
        "outputId": "23abfb6f-9d15-4cec-c567-0d6c82518135"
      },
      "execution_count": null,
      "outputs": [
        {
          "output_type": "stream",
          "name": "stdout",
          "text": [
            "Python 3.10.12\n"
          ]
        }
      ]
    },
    {
      "cell_type": "code",
      "source": [
        "import google.colab\n",
        "print(google.colab.__version__)"
      ],
      "metadata": {
        "colab": {
          "base_uri": "https://localhost:8080/"
        },
        "id": "jQPz-VaF55cA",
        "outputId": "1b2acf50-c1a6-4b4b-cdb2-183b2d33eb18"
      },
      "execution_count": null,
      "outputs": [
        {
          "output_type": "stream",
          "name": "stdout",
          "text": [
            "0.0.1a2\n"
          ]
        }
      ]
    }
  ],
  "metadata": {
    "colab": {
      "provenance": []
    },
    "kernelspec": {
      "display_name": "Python 3",
      "name": "python3"
    },
    "language_info": {
      "name": "python"
    }
  },
  "nbformat": 4,
  "nbformat_minor": 0
}