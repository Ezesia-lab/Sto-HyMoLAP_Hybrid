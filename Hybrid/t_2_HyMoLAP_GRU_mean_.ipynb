{
  "cells": [
    {
      "cell_type": "code",
      "execution_count": 1,
      "metadata": {
        "colab": {
          "base_uri": "https://localhost:8080/"
        },
        "id": "J1SE3yvn5yNE",
        "outputId": "d31a1271-c44b-4d6c-fe1c-18f256456a9e"
      },
      "outputs": [
        {
          "output_type": "stream",
          "name": "stdout",
          "text": [
            "Requirement already satisfied: PyWavelets in /usr/local/lib/python3.10/dist-packages (1.8.0)\n",
            "Requirement already satisfied: numpy<3,>=1.23 in /usr/local/lib/python3.10/dist-packages (from PyWavelets) (1.26.4)\n"
          ]
        }
      ],
      "source": [
        " !pip install PyWavelets"
      ]
    },
    {
      "cell_type": "code",
      "execution_count": 22,
      "metadata": {
        "id": "QHwImzYDzpMn"
      },
      "outputs": [],
      "source": [
        "import pandas as pd\n",
        "from matplotlib import pylab as plt\n",
        "from datetime import datetime\n",
        "import numpy as np\n",
        "from math import sqrt\n",
        "from numpy import concatenate\n",
        "from sklearn.preprocessing import LabelEncoder\n",
        "from sklearn.preprocessing import MinMaxScaler\n",
        "from sklearn.metrics import mean_squared_error\n",
        "from keras.models import Sequential\n",
        "from keras.layers import Dense\n",
        "from keras.layers import GRU, Dropout\n",
        "from keras.optimizers import Adam\n",
        "\n",
        "import pywt\n",
        "from sklearn.model_selection import train_test_split\n",
        "from sklearn.model_selection import GridSearchCV\n",
        "\n",
        "import math\n",
        "\n",
        "from scipy.stats import norm\n",
        "from scipy.stats import skew, kurtosis\n",
        "from statsmodels.tsa.stattools import acf\n",
        "from scipy.stats import mode\n",
        "\n",
        "import joblib\n",
        "import matplotlib.dates as mdates\n",
        "from google.colab import files"
      ]
    },
    {
      "cell_type": "code",
      "execution_count": 3,
      "metadata": {
        "id": "C4xu_V8k2THU"
      },
      "outputs": [],
      "source": [
        "import random\n",
        "import os\n",
        "import tensorflow as tf\n",
        "\n",
        "# Set random seeds for reproducibility\n",
        "np.random.seed(42)\n",
        "tf.random.set_seed(42)\n",
        "random.seed(42)\n",
        "os.environ['PYTHONHASHSEED'] = '42'"
      ]
    },
    {
      "cell_type": "code",
      "execution_count": 17,
      "metadata": {
        "id": "Rq8OX1O_Fb5K"
      },
      "outputs": [],
      "source": [
        "# Performance metrics\n",
        "\n",
        "def nash_sutcliffe_efficiency(observed, simulated):\n",
        "    obs_mean = np.mean(observed)\n",
        "    numerator = np.sum((observed - simulated) ** 2)\n",
        "    denominator = np.sum((observed - obs_mean) ** 2)\n",
        "\n",
        "    nse = 1 - (numerator / denominator)\n",
        "    return nse\n",
        "\n",
        "def calculate_rmse(observed, predicted):\n",
        "\n",
        "    rmse = np.sqrt(np.mean((observed - predicted)**2))\n",
        "    return rmse\n",
        "\n",
        "def calculate_r2(observed, predicted):\n",
        "\n",
        "    mean_observed = np.mean(observed)\n",
        "    mean_predicted = np.mean(predicted)\n",
        "\n",
        "    numerator = np.sum((observed - mean_observed) * (predicted - mean_predicted))\n",
        "    denominator = np.sqrt(np.sum((observed - mean_observed)**2)) * np.sqrt(np.sum((predicted - mean_predicted)**2))\n",
        "\n",
        "    r2 = (numerator / denominator)**2\n",
        "    return r2\n",
        "\n",
        "def calculate_mae(observed, predicted):\n",
        "    mae = np.mean(np.abs(observed - predicted))\n",
        "    return mae\n",
        "\n",
        "def calculate_ca(rmse, mae, r2):\n",
        "    ca = 0.33 * (rmse + mae + (1 - r2))\n",
        "    return ca\n"
      ]
    },
    {
      "cell_type": "code",
      "execution_count": 5,
      "metadata": {
        "id": "9SmHZJg04fSJ"
      },
      "outputs": [],
      "source": [
        "from scipy.stats import levy_stable"
      ]
    },
    {
      "cell_type": "code",
      "execution_count": 6,
      "metadata": {
        "id": "oPFbyTs70Ge-"
      },
      "outputs": [],
      "source": [
        "def split_train_test(values, n_train_hours = 1460):\n",
        "    # Split the data into train (use values before n_train_hours) and test sets (use values after n_train_hours)\n",
        "    train = values[:n_train_hours, :]\n",
        "    test = values[n_train_hours:, :]\n",
        "    # split into input and outputs\n",
        "    train_X, train_y = train[:, :-1], train[:, -1]\n",
        "    test_X, test_y = test[:, :-1], test[:, -1]\n",
        "    # reshape input to be 3D [samples, timesteps, features] required for LSTM\n",
        "    train_X = train_X.reshape((train_X.shape[0], 1, train_X.shape[1]))\n",
        "    test_X = test_X.reshape((test_X.shape[0], 1, test_X.shape[1]))\n",
        "\n",
        "    print(train_X.shape, train_y.shape, test_X.shape, test_y.shape)\n",
        "    return train_X, train_y, test_X, test_y"
      ]
    },
    {
      "cell_type": "code",
      "execution_count": 7,
      "metadata": {
        "id": "bTec4pF40Kz3"
      },
      "outputs": [],
      "source": [
        "def build_lstm_model(input_shape, nb_neurons=95, learning_rate=0.1, dropout_rate=0.5):\n",
        "    '''\n",
        "    train and test: input shape 1 time step with 8 features\n",
        "    LSTM:\n",
        "     * nb_neurons: hidden state\n",
        "     * 1 neuron for output layer for prediction.\n",
        "    '''\n",
        "    model = Sequential()\n",
        "\n",
        "    # Add a GRU layer with nb_neurons, input_shape, and dropout\n",
        "    model.add(GRU(nb_neurons, input_shape=input_shape))\n",
        "\n",
        "    # Add a Dropout layer\n",
        "    model.add(Dropout(dropout_rate))\n",
        "\n",
        "    # Add a Dense layer with one output neuron\n",
        "    model.add(Dense(1))\n",
        "\n",
        "    # Compile the model with a specified learning rate for the Adam optimizer\n",
        "    optimizer = Adam(learning_rate=learning_rate)\n",
        "    model.compile(loss='mse', optimizer=optimizer)\n",
        "\n",
        "    return model\n",
        "\n",
        "def train_model(model, train_X, train_y, test_X, test_y, epochs=450, batch_size= 128, verbose=0):\n",
        "  '''\n",
        "  Generic function to train model\n",
        "  '''\n",
        "  history = model.fit(train_X, train_y, epochs=epochs, batch_size=batch_size, validation_data=(test_X, test_y), verbose=verbose, shuffle = True)\n",
        "  plt.plot(history.history['loss'], label='train')\n",
        "  plt.plot(history.history['val_loss'], label='test')\n",
        "  plt.legend()\n",
        "  plt.show()"
      ]
    },
    {
      "cell_type": "code",
      "execution_count": 8,
      "metadata": {
        "id": "PluvygB00PJq"
      },
      "outputs": [],
      "source": [
        "# invert scaling for forecast\n",
        "def invert_scaling(scaled_X, scaled_yhat):\n",
        "  scaled_X_reshaped = scaled_X.reshape((scaled_X.shape[0], scaled_X.shape[2]))\n",
        "  Xyat = np.concatenate((scaled_X_reshaped, scaled_yhat.reshape(-1,1)), axis=1)\n",
        "  inv_Xyat = scaler.inverse_transform(Xyat)\n",
        "  return inv_Xyat[:,-1]"
      ]
    },
    {
      "cell_type": "code",
      "execution_count": 9,
      "metadata": {
        "id": "MPMvSTdfX_wq"
      },
      "outputs": [],
      "source": [
        "def history_and_horizon_sequencing(df, n_history, n_horizon, target='debits'):\n",
        "    # Separate inputs (e.g., precipitation, ETP) from targets (e.g., discharge)\n",
        "    input_columns = [col for col in df.columns if col != target]\n",
        "    df_inputs = df[input_columns]\n",
        "    df_target = df[target].to_frame()\n",
        "\n",
        "    # History: past sequences (t-n, ... t-1) for inputs (e.g., precipitation, ETP)\n",
        "    stack_history = []\n",
        "    for i in range(n_history, 0, -1):\n",
        "        df_i = df_inputs.shift(i)\n",
        "        df_i.columns = [f'{col}_t-{i}' for col in df_i.columns]\n",
        "        stack_history.append(df_i)\n",
        "\n",
        "    # Present: t for inputs\n",
        "    df_t = df_inputs.copy()\n",
        "    df_t.columns = [f'{col}_t' for col in df_t.columns]\n",
        "\n",
        "    # Horizon: future sequences (t+1, ... t+n) for targets (e.g., discharge)\n",
        "    stack_horizon = []\n",
        "    for j in range(0, n_horizon):\n",
        "        df_j = df_target.shift(-j)\n",
        "        df_j.columns = [f'{col}_t+{j}' for col in df_j.columns]\n",
        "        stack_horizon.append(df_j)\n",
        "\n",
        "    # Return the concatenated DataFrame: past + present + future (inputs and targets)\n",
        "    return pd.concat(stack_history + [df_t] + stack_horizon, axis=1)"
      ]
    },
    {
      "cell_type": "code",
      "execution_count": 10,
      "metadata": {
        "id": "OACq-e5p0iXK"
      },
      "outputs": [],
      "source": [
        "# Wavelet transform\n",
        "def wavelet_transform(data, wavelet='coif1', level=6):\n",
        "        coeffs = pywt.wavedec(data, wavelet, level=level)\n",
        "        approx_coeffs = coeffs[0]\n",
        "        transformed_data = pywt.waverec([approx_coeffs] + [None]*(len(coeffs)-1), wavelet)\n",
        "        return transformed_data[:len(data)]"
      ]
    },
    {
      "cell_type": "markdown",
      "metadata": {
        "id": "FREGFGQ38kS_"
      },
      "source": [
        "Simulation of HyMoLAP"
      ]
    },
    {
      "cell_type": "code",
      "execution_count": 11,
      "metadata": {
        "colab": {
          "base_uri": "https://localhost:8080/"
        },
        "id": "1mIhTZvV-W7i",
        "outputId": "f3fc90b2-f009-481f-b962-10914bc6b177"
      },
      "outputs": [
        {
          "output_type": "stream",
          "name": "stdout",
          "text": [
            "Mounted at /content/drive\n"
          ]
        }
      ],
      "source": [
        "from google.colab import drive\n",
        "drive.mount('/content/drive')"
      ]
    },
    {
      "cell_type": "code",
      "execution_count": 12,
      "metadata": {
        "id": "buqI654O4AAz"
      },
      "outputs": [],
      "source": [
        "daily = pd.read_excel('/content/drive/MyDrive/Colab Notebooks/Bonou/calage_biao.xlsx')\n",
        "\n",
        "discharge = daily.iloc[:1461, 0].to_numpy()\n",
        "plui = daily.iloc[:1461, 1].to_numpy()\n",
        "etp = daily.iloc[:1461, 2].to_numpy()\n",
        "\n",
        "\n",
        "#Compute the Effective precipitation\n",
        "prec_eff = plui - etp\n",
        "prec_eff[prec_eff < 0] = 0\n",
        "\n",
        "# X(t)\n",
        "def state_basin(MU, LANDA, q):\n",
        "    n = len(q)\n",
        "    X = np.zeros(n)\n",
        "    X[0] = q[0]\n",
        "    for i in range(1, n):\n",
        "        if q[i] == 0:\n",
        "            X[i] = X[i - 1] - (MU / LANDA) * X[i - 1]\n",
        "        else:\n",
        "            X[i] = X[i - 1] + (MU / LANDA) * q[i]\n",
        "    return X\n",
        "\n",
        "#parameters obtained after Sto. HyMoLAP calibration\n",
        "mu = 0.8136   # which is a in the paper\n",
        "lambd = 2.9416   # which is b in the paper\n",
        "sigma = 0.0035    # which is theta in the paper\n",
        "\n",
        "# Lévy process parameters obtained after Sto. HyMoLAP calibration\n",
        "alpha = 1.3\n",
        "beta =  -0.8\n",
        "gammaa = 1\n",
        "delta = 0\n",
        "\n",
        "# X(t)\n",
        "X = state_basin(mu, lambd, prec_eff)\n",
        "\n",
        "n_traj = 300000\n",
        "QQ = np.zeros((len(discharge),n_traj))\n",
        "\n",
        "for i in range(n_traj):\n",
        "\n",
        "   #Simulate Lévy process\n",
        "   Lev=[]\n",
        "   Lev = levy_stable.rvs(alpha, beta, loc=delta, scale=gammaa, size=len(discharge))\n",
        "\n",
        "   #Model\n",
        "   S = np.zeros(len(discharge))\n",
        "   S[0] = discharge[0]\n",
        "   Phi = np.zeros(len(discharge))\n",
        "   Phi[0] = prec_eff[0]\n",
        "   for k in range(1, len(discharge)):\n",
        "        if S[k - 1]<0:\n",
        "          S[k - 1] = 0\n",
        "        S[k] = S[k - 1] - (mu/lambd) * S[k-1]**(2*mu-1) + (1/lambd) * X[k-1] * prec_eff[k-1] + sigma * S[k - 1] * (Lev[k]-Lev[k - 1])\n",
        "\n",
        "   QQ[:, i] = S.copy()\n",
        "\n",
        "mean_trajectory = np.mean(QQ, axis=1)\n",
        "var_trajectory = np.std(QQ, axis=1)**2\n",
        "min_trajectory = pd.DataFrame(QQ).quantile(0.2, axis=1)        #np.min(QQ, axis=1)\n",
        "max_trajectory =  pd.DataFrame(QQ).quantile(0.8, axis=1)       #np.max(QQ, axis=1)\n",
        "diff = max_trajectory - min_trajectory\n",
        "\n"
      ]
    },
    {
      "cell_type": "markdown",
      "metadata": {
        "id": "RG-6iHtX8gmS"
      },
      "source": [
        "Validation HyMoLAP"
      ]
    },
    {
      "cell_type": "code",
      "execution_count": 13,
      "metadata": {
        "id": "rJJipHzl8nhA"
      },
      "outputs": [],
      "source": [
        "discharge1 = daily.iloc[1461:, 0].to_numpy()\n",
        "plui1 = daily.iloc[1461:, 1].to_numpy()\n",
        "etp1 = daily.iloc[1461:, 2].to_numpy()\n",
        "\n",
        "#Compute the Effective precipitation\n",
        "plui_eff1 = plui1 - etp1\n",
        "plui_eff1[plui_eff1 < 0] = 0\n",
        "\n",
        "\n",
        "\n",
        "# Simulation with the SDE\n",
        "size = len(discharge1)\n",
        "n_traj = 300000\n",
        "QQ = np.zeros((size,n_traj))\n",
        "\n",
        "X = state_basin(mu, lambd, plui_eff1)\n",
        "\n",
        "for i in range(n_traj):\n",
        "\n",
        "   #Simulate Lévy process\n",
        "   Lev=[]\n",
        "   Lev = levy_stable.rvs(alpha, beta, loc=delta, scale=gammaa, size=size)\n",
        "\n",
        "   # Model\n",
        "   S = np.zeros(size)\n",
        "   S[0] = discharge1[0]\n",
        "   Phi1 = np.zeros(len(discharge1))\n",
        "   Phi1[0] = plui_eff1[0]\n",
        "   for k in range(1, size):\n",
        "        if S[k - 1]<0:\n",
        "          S[k - 1] = 0\n",
        "        S[k] = S[k - 1] - (mu/lambd) * S[k-1]**(2*mu-1) + (1/lambd) * X[k-1] * plui_eff1[k-1] + sigma * S[k - 1] * (Lev[k]-Lev[k - 1])\n",
        "\n",
        "   QQ[:, i] = S.copy()\n",
        "\n",
        "mean_trajectory1 = np.mean(QQ, axis=1)\n",
        "var_trajectory1 = np.std(QQ, axis=1)**2\n",
        "min_trajectory1 = pd.DataFrame(QQ).quantile(0.2, axis=1)     #np.min(QQ, axis=1)\n",
        "max_trajectory1 =  pd.DataFrame(QQ).quantile(0.8, axis=1)    #np.max(QQ, axis=1)\n",
        "diff1 = max_trajectory1 - min_trajectory1\n"
      ]
    },
    {
      "cell_type": "markdown",
      "metadata": {
        "id": "7dcccrEf49HC"
      },
      "source": [
        "HYBRID"
      ]
    },
    {
      "cell_type": "code",
      "execution_count": 14,
      "metadata": {
        "colab": {
          "base_uri": "https://localhost:8080/",
          "height": 554
        },
        "id": "wQ-lAE5z4bTC",
        "outputId": "549e6ef2-c89f-403b-cb7a-f0b64ffa06b4"
      },
      "outputs": [
        {
          "output_type": "stream",
          "name": "stdout",
          "text": [
            "(1460, 1, 3) (1460,) (728, 1, 3) (728,)\n",
            "(1460, 1, 3) (1460,) (728, 1, 3) (728,)\n"
          ]
        },
        {
          "output_type": "stream",
          "name": "stderr",
          "text": [
            "/usr/local/lib/python3.10/dist-packages/keras/src/layers/rnn/rnn.py:204: UserWarning: Do not pass an `input_shape`/`input_dim` argument to a layer. When using Sequential models, prefer using an `Input(shape)` object as the first layer in the model instead.\n",
            "  super().__init__(**kwargs)\n"
          ]
        },
        {
          "output_type": "display_data",
          "data": {
            "text/plain": [
              "<Figure size 640x480 with 1 Axes>"
            ],
            "image/png": "[encoded data removed]"
          },
          "metadata": {}
        },
        {
          "output_type": "stream",
          "name": "stdout",
          "text": [
            "\u001b[1m46/46\u001b[0m \u001b[32m━━━━━━━━━━━━━━━━━━━━\u001b[0m\u001b[37m\u001b[0m \u001b[1m0s\u001b[0m 5ms/step\n",
            "\u001b[1m23/23\u001b[0m \u001b[32m━━━━━━━━━━━━━━━━━━━━\u001b[0m\u001b[37m\u001b[0m \u001b[1m0s\u001b[0m 2ms/step \n"
          ]
        }
      ],
      "source": [
        "# Création du DataFrame pour l'entraînement (calibration)\n",
        "data_train = pd.DataFrame({\n",
        "    'mean_HyMoLAP': mean_trajectory[:-1],\n",
        "    #'var_HyMoLAP': var_trajectory[:-1],\n",
        "    #'diff_HyMoLAP': diff[:-1],\n",
        "    #'mode_HyMoLAP': mode_trajectory[:-1],\n",
        "    #'min_HyMoLAP': min_trajectory[:-1],\n",
        "    #'max_HyMoLAP': max_trajectory[:-1],\n",
        "    #'Phi_HyMoLAP': Phi[:-1],\n",
        "    #'kurtosis_HyMoLAP': kurtosis_trajectory[:-1],\n",
        "    #'skew_HyMoLAP': skewness_trajectory[:-1],\n",
        "    #'autocorr_HyMoLAP': autocorr_trajectory[:-1],\n",
        "    #'plui_HyMoLAP': plui[:-1],\n",
        "    #'etp_HyMoLAP': etp[:-1],\n",
        "    'target': discharge[1:]\n",
        "})\n",
        "\n",
        "# Création du DataFrame pour la validation (test)\n",
        "data_test = pd.DataFrame({\n",
        "    'mean_HyMoLAP': mean_trajectory1[:-1],  # Utilisez les mêmes noms de colonnes\n",
        "    #'var_HyMoLAP': var_trajectory1[:-1],\n",
        "    #'diff_HyMoLAP': diff1[:-1],\n",
        "    #'mode_HyMoLAP': mode_trajectory1[:-1],\n",
        "    #'min_HyMoLAP': min_trajectory1[:-1],\n",
        "    #'max_HyMoLAP': max_trajectory1[:-1],\n",
        "    #'Phi_HyMoLAP': Phi1[:-1],\n",
        "    #'kurtosis_HyMoLAP': kurtosis_trajectory1[:-1],\n",
        "    #'skew_HyMoLAP': skewness_trajectory1[:-1],\n",
        "    #'autocorr_HyMoLAP': autocorr_trajectory1[:-1],\n",
        "    #'plui_HyMoLAP': plui1[:-1],\n",
        "    #'etp_HyMoLAP': etp1[:-1],\n",
        "    'target': discharge1[1:]\n",
        "})\n",
        "\n",
        "# Concaténer les deux DataFrames (calibration + validation)\n",
        "data = pd.concat([data_train, data_test], ignore_index=True)\n",
        "\n",
        "#WAVELET TRANSFORM\n",
        "# Exclure la dernière colonne ('target')\n",
        "columns_to_transform = data.columns[:-1]  # Toutes les colonnes sauf la dernière\n",
        "data_transformed = data[columns_to_transform].apply(lambda x: wavelet_transform(x, wavelet='db2', level=3), axis=0)\n",
        "\n",
        "# Réattacher la colonne 'target' sans transformation\n",
        "data_transformed['target'] = data['target']\n",
        "\n",
        "# Conserver les noms de colonnes\n",
        "data_transformed = pd.DataFrame(data_transformed, columns=data.columns)\n",
        "\n",
        "# Convert to pd.Dataframe\n",
        "data = pd.DataFrame(data_transformed)\n",
        "\n",
        "\n",
        "\n",
        "#Include look_back\n",
        "look_back = 2\n",
        "horizon = 1\n",
        "data_Xy = history_and_horizon_sequencing(data, look_back, horizon, target='target')\n",
        "data_Xy.dropna(inplace=True)\n",
        "\n",
        "\n",
        "#split data\n",
        "train_X, train_y, test_X, test_y = split_train_test(data_Xy.values)\n",
        "\n",
        "\n",
        "# Normalize features\n",
        "values = data_Xy.values.astype('float32')\n",
        "scaler = MinMaxScaler(feature_range=(0, 1))\n",
        "scaled_values = scaler.fit_transform(values)\n",
        "\n",
        "# Create train/tests datasets from scaled_data\n",
        "scaled_train_X, scaled_train_y, scaled_test_X, scaled_test_y = split_train_test(scaled_values)\n",
        "\n",
        "# Build and train the model\n",
        "input_shape=(scaled_train_X.shape[1], scaled_train_X.shape[2])\n",
        "# Build\n",
        "lstm_model_scaled = build_lstm_model(input_shape, nb_neurons=95, learning_rate=0.1, dropout_rate=0.5)\n",
        "# Train\n",
        "train_model(lstm_model_scaled, scaled_train_X, scaled_train_y, scaled_test_X, scaled_test_y, epochs=200, batch_size= 128, verbose=0)\n",
        "\n",
        "\n",
        "# make a prediction: Training\n",
        "lstm_scaled_yhat = lstm_model_scaled.predict(scaled_train_X)\n",
        "# invert_scaling\n",
        "inv_yhat1 = invert_scaling(scaled_train_X, lstm_scaled_yhat)\n",
        "\n",
        "# make a prediction: Test\n",
        "lstm_scaled_yhat = lstm_model_scaled.predict(scaled_test_X)\n",
        "# invert_scaling\n",
        "inv_yhat = invert_scaling(scaled_test_X, lstm_scaled_yhat)\n"
      ]
    },
    {
      "cell_type": "markdown",
      "source": [
        "Performance for training"
      ],
      "metadata": {
        "id": "FEHJsrWb9FC3"
      }
    },
    {
      "cell_type": "code",
      "source": [
        "nse_value = nash_sutcliffe_efficiency(discharge[3:], inv_yhat1[:-2])\n",
        "print(\"Nash-Sutcliffe Efficiency (NSE):\", nse_value)\n",
        "\n",
        "rmse = calculate_rmse(discharge[3:], inv_yhat1[:-2])\n",
        "print('rmse=', rmse)\n",
        "\n",
        "r2 = calculate_r2(discharge[3:], inv_yhat1[:-2])\n",
        "print('r2=', r2)\n",
        "\n",
        "mae = calculate_mae(discharge[3:], inv_yhat1[:-2])\n",
        "print('mae=', mae)\n",
        "\n",
        "print('CA=',calculate_ca(rmse, mae, r2))"
      ],
      "metadata": {
        "colab": {
          "base_uri": "https://localhost:8080/"
        },
        "id": "JrlhKd7_xzrq",
        "outputId": "c5692dee-4321-4395-c149-b88f3965adfc"
      },
      "execution_count": 18,
      "outputs": [
        {
          "output_type": "stream",
          "name": "stdout",
          "text": [
            "Nash-Sutcliffe Efficiency (NSE): 0.8891296501211854\n",
            "rmse= 89.84110432092923\n",
            "r2= 0.89102331963778\n",
            "mae= 52.2386082167161\n",
            "CA= 46.92226744194249\n"
          ]
        }
      ]
    },
    {
      "cell_type": "code",
      "execution_count": 19,
      "metadata": {
        "id": "f9ueTwRk40aY",
        "colab": {
          "base_uri": "https://localhost:8080/",
          "height": 257
        },
        "outputId": "a8dd6060-7ad1-4357-b550-95f18ad97971"
      },
      "outputs": [
        {
          "output_type": "display_data",
          "data": {
            "text/plain": [
              "<Figure size 500x250 with 2 Axes>"
            ],
            "image/png": "[encoded data removed]"
          },
          "metadata": {}
        }
      ],
      "source": [
        "import matplotlib.dates as mdates\n",
        "\n",
        "# Generate the date range\n",
        "time1 = np.datetime64('2004-01-04')  # Start date\n",
        "time2 = np.datetime64('2005-12-31')  # End date\n",
        "time = np.arange(time1, time2 + np.timedelta64(1, 'D'), dtype='datetime64[D]')  # Daily date range\n",
        "\n",
        "fig, ax1 = plt.subplots(figsize=(5., 2.5))\n",
        "\n",
        "# Plot precipitation (plui1) as bars on ax1\n",
        "ax1.bar(time, plui1[3:], color='black')\n",
        "\n",
        "# Format the x-axis to display only the start of each year\n",
        "ax1.xaxis.set_major_locator(mdates.YearLocator())  # One label per year\n",
        "ax1.xaxis.set_major_formatter(mdates.DateFormatter('%Y'))  # Date format 'YYYY'\n",
        "\n",
        "# Align the date labels horizontally (no rotation)\n",
        "plt.xticks(rotation=0)\n",
        "\n",
        "# Label for the x-axis\n",
        "ax1.set_xlabel('Date [day]')\n",
        "\n",
        "# Parameters for the y-axis (precipitation)\n",
        "ax1.set_ylabel('Precipitation [mm]', color='black')\n",
        "ax1.tick_params(axis='y', labelcolor='black')\n",
        "ax1.set_ylim(0, 100)\n",
        "ax1.set_yticks(np.arange(0, 101, 20))\n",
        "\n",
        "# Invert the y-axis for precipitation\n",
        "ax1.invert_yaxis()\n",
        "ax1.yaxis.set_label_position(\"left\")\n",
        "\n",
        "# Create a second y-axis for discharge (Qobs)\n",
        "ax2 = ax1.twinx()\n",
        "ax2.plot(time, discharge1[3:], 'b', label='Qobs')  # Plot observed discharge in blue\n",
        "\n",
        "# Plot the mean trajectories (Qsim)\n",
        "ax2.plot(time, inv_yhat, 'magenta', label='Qsim')  # Plot simulated discharge in magenta\n",
        "\n",
        "# Parameters for the y-axis (discharge)\n",
        "ax2.set_ylabel('Discharge [m³/s]', color='blue')\n",
        "ax2.tick_params(axis='y', labelcolor='blue')\n",
        "ax2.set_ylim(-100, 1600)\n",
        "ax2.set_yticks(np.arange(0, 1600, 400))\n",
        "\n",
        "# Add a legend inside the plot\n",
        "fig.legend(loc='upper left', bbox_to_anchor=(0.14, 0.75))\n",
        "\n",
        "# Use tight_layout to avoid overlapping elements\n",
        "plt.tight_layout()\n",
        "\n",
        "# Save the plot as a .jpeg file\n",
        "plt.savefig(\"sto_hyb_wgru1.jpeg\", format='jpeg', dpi=300)\n",
        "\n",
        "# Optional: Download the file\n",
        "# files.download(\"sto_hyb_wgru1.jpeg\")\n",
        "\n",
        "# Display the plot\n",
        "plt.show()\n"
      ]
    },
    {
      "cell_type": "code",
      "source": [
        "# Create a DataFrame to save the mean trajectory into an Excel file\n",
        "df_mean_trajectory = pd.DataFrame({'Mean_Trajectory': inv_yhat})\n",
        "\n",
        "# Save the DataFrame to an Excel file\n",
        "df_mean_trajectory.to_excel('det_wgru.xlsx', index=False)\n",
        "\n",
        "# Download the file in Google Colab\n",
        "#files.download('det_wgru.xlsx')\n"
      ],
      "metadata": {
        "id": "Ec7bR_EbQPUV"
      },
      "execution_count": 24,
      "outputs": []
    },
    {
      "cell_type": "code",
      "source": [
        "nse_value = nash_sutcliffe_efficiency(discharge1[3:], inv_yhat)\n",
        "print(\"Nash-Sutcliffe Efficiency (NSE):\", nse_value)\n",
        "\n",
        "rmse = calculate_rmse(discharge1[3:], inv_yhat)\n",
        "print('rmse=', rmse)\n",
        "\n",
        "r2 = calculate_r2(discharge1[3:], inv_yhat)\n",
        "print('r2=', r2)\n",
        "\n",
        "mae = calculate_mae(discharge1[3:], inv_yhat)\n",
        "print('mae=', mae)\n",
        "\n",
        "print('CA=',calculate_ca(rmse, mae, r2))"
      ],
      "metadata": {
        "colab": {
          "base_uri": "https://localhost:8080/"
        },
        "id": "IYqWwT50x7X2",
        "outputId": "2886864e-b426-47ae-a770-8a477b4c039b"
      },
      "execution_count": 23,
      "outputs": [
        {
          "output_type": "stream",
          "name": "stdout",
          "text": [
            "Nash-Sutcliffe Efficiency (NSE): 0.8594837550827406\n",
            "rmse= 81.03210505956007\n",
            "r2= 0.863000085078985\n",
            "mae= 46.32274474940457\n",
            "CA= 42.072310408882274\n"
          ]
        }
      ]
    },
    {
      "cell_type": "code",
      "execution_count": 25,
      "metadata": {
        "id": "na7-zcWV69Ij",
        "colab": {
          "base_uri": "https://localhost:8080/",
          "height": 257
        },
        "outputId": "1842d13d-bd88-41de-f2c8-0ef3b5bb8bef"
      },
      "outputs": [
        {
          "output_type": "display_data",
          "data": {
            "text/plain": [
              "<Figure size 500x250 with 1 Axes>"
            ],
            "image/png": "[encoded data removed]"
          },
          "metadata": {}
        }
      ],
      "source": [
        "# Scatter plot of observed (Qobs) vs simulated (Qsim) values\n",
        "plt.figure(figsize=(5, 2.5))\n",
        "plt.scatter(discharge1[3:], inv_yhat, color='magenta', marker='.')  # Scatter plot of the values\n",
        "plt.xlabel('Qobs [m³/s]')  # Label for the x-axis (observed discharge)\n",
        "plt.ylabel('Qsim [m³/s]')  # Label for the y-axis (simulated discharge)\n",
        "\n",
        "# Adjust the x and y-axis limits based on the data\n",
        "plt.xlim(0, 1000)\n",
        "plt.ylim(0, 1000)\n",
        "\n",
        "# Add a reference line y=x (the perfect fit line)\n",
        "plt.plot([0, 1000], [0, 1000], color='black', linestyle='--')\n",
        "\n",
        "# Use tight_layout to avoid label clipping issues\n",
        "plt.tight_layout()\n",
        "\n",
        "# Save the plot as a .jpeg file before displaying it\n",
        "plt.savefig(\"sca_sto_hyb_wgru1.jpeg\", format='jpeg', dpi=300)\n",
        "\n",
        "# Optional: Download the file to your laptop\n",
        "# files.download(\"sca_sto_hyb_wgru1.jpeg\")\n",
        "\n",
        "# Now display the plot\n",
        "plt.show()\n"
      ]
    },
    {
      "cell_type": "markdown",
      "source": [
        "Stacked model case"
      ],
      "metadata": {
        "id": "Ej1Uzacf9WRA"
      }
    },
    {
      "cell_type": "code",
      "source": [
        "def build_stacked_gru_model(input_shape, nb_neurons=75):\n",
        "    model = Sequential()\n",
        "    model.add(GRU(nb_neurons, input_shape=input_shape, return_sequences=True))\n",
        "    model.add(GRU(nb_neurons, return_sequences=True))\n",
        "    #model.add(GRU(nb_neurons, return_sequences=True))\n",
        "    model.add(GRU(nb_neurons, activation='relu'))\n",
        "    model.add(Dense(1))\n",
        "    return model\n",
        "\n",
        "input_shape = (train_X.shape[1], train_X.shape[2])\n",
        "# Build the new stacked_lstm_model\n",
        "gru_model_new = build_stacked_gru_model(input_shape, nb_neurons=95)\n",
        "# Train the model stacked_lstm_model\n",
        "gru_model_new.compile(optimizer='adam', loss='mse')\n",
        "train_model(gru_model_new, scaled_train_X, scaled_train_y, scaled_test_X, scaled_test_y, epochs=300, batch_size= 256, verbose=0)\n",
        "\n",
        "# make a prediction: Train\n",
        "gru_scaled_yhat = gru_model_new.predict(scaled_train_X)\n",
        "# invert_scaling\n",
        "inv_yhat1 = invert_scaling(scaled_train_X, gru_scaled_yhat)\n",
        "\n",
        "# make a prediction: Test\n",
        "scaled_stacked_gru_yhat = gru_model_new.predict(scaled_test_X)\n",
        "# invert_scaling\n",
        "inv_yhat = invert_scaling(scaled_test_X, scaled_stacked_gru_yhat)"
      ],
      "metadata": {
        "colab": {
          "base_uri": "https://localhost:8080/",
          "height": 519
        },
        "id": "3UoMEMl3unHD",
        "outputId": "a1eefbae-5dff-48b9-bd6e-f1bee0c1f63b"
      },
      "execution_count": 26,
      "outputs": [
        {
          "output_type": "stream",
          "name": "stderr",
          "text": [
            "/usr/local/lib/python3.10/dist-packages/keras/src/layers/rnn/rnn.py:204: UserWarning: Do not pass an `input_shape`/`input_dim` argument to a layer. When using Sequential models, prefer using an `Input(shape)` object as the first layer in the model instead.\n",
            "  super().__init__(**kwargs)\n"
          ]
        },
        {
          "output_type": "display_data",
          "data": {
            "text/plain": [
              "<Figure size 640x480 with 1 Axes>"
            ],
            "image/png": "[encoded data removed]"
          },
          "metadata": {}
        },
        {
          "output_type": "stream",
          "name": "stdout",
          "text": [
            "\u001b[1m46/46\u001b[0m \u001b[32m━━━━━━━━━━━━━━━━━━━━\u001b[0m\u001b[37m\u001b[0m \u001b[1m1s\u001b[0m 13ms/step\n",
            "\u001b[1m23/23\u001b[0m \u001b[32m━━━━━━━━━━━━━━━━━━━━\u001b[0m\u001b[37m\u001b[0m \u001b[1m0s\u001b[0m 2ms/step \n"
          ]
        }
      ]
    },
    {
      "cell_type": "code",
      "source": [
        "nse_value = nash_sutcliffe_efficiency(discharge1[3:], inv_yhat)\n",
        "print(\"Nash-Sutcliffe Efficiency (NSE):\", nse_value)\n",
        "\n",
        "rmse = calculate_rmse(discharge1[3:], inv_yhat)\n",
        "print('rmse=', rmse)\n",
        "\n",
        "r2 = calculate_r2(discharge1[3:], inv_yhat)\n",
        "print('r2=', r2)\n",
        "\n",
        "mae = calculate_mae(discharge1[3:], inv_yhat)\n",
        "print('mae=', mae)\n",
        "\n",
        "print('CA=',calculate_ca(rmse, mae, r2))"
      ],
      "metadata": {
        "colab": {
          "base_uri": "https://localhost:8080/"
        },
        "id": "a8vKpR4mNkDc",
        "outputId": "86a88af9-8fa1-4ed9-c8ce-8018447a10ee"
      },
      "execution_count": 27,
      "outputs": [
        {
          "output_type": "stream",
          "name": "stdout",
          "text": [
            "Nash-Sutcliffe Efficiency (NSE): 0.8426894823387571\n",
            "rmse= 85.73787859256\n",
            "r2= 0.8578000100625971\n",
            "mae= 50.09486846347431\n",
            "CA= 44.871732525170664\n"
          ]
        }
      ]
    }
  ],
  "metadata": {
    "colab": {
      "provenance": []
    },
    "kernelspec": {
      "display_name": "Python 3",
      "name": "python3"
    },
    "language_info": {
      "name": "python"
    }
  },
  "nbformat": 4,
  "nbformat_minor": 0
}